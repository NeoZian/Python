{
 "cells": [
  {
   "cell_type": "code",
   "execution_count": 22,
   "id": "88571eac",
   "metadata": {},
   "outputs": [],
   "source": [
    "r = \"aab\"\n",
    "m = \"fffbdddaass\""
   ]
  },
  {
   "cell_type": "code",
   "execution_count": 23,
   "id": "570eea76",
   "metadata": {},
   "outputs": [],
   "source": [
    "dr={}"
   ]
  },
  {
   "cell_type": "code",
   "execution_count": 24,
   "id": "2c4cc3b7",
   "metadata": {},
   "outputs": [],
   "source": [
    "for ch in r:\n",
    "    if ch in dr:\n",
    "        dr[ch] = dr[ch] + 1\n",
    "    else:\n",
    "        dr[ch] = 1"
   ]
  },
  {
   "cell_type": "code",
   "execution_count": 25,
   "id": "581aa921",
   "metadata": {},
   "outputs": [
    {
     "data": {
      "text/plain": [
       "{'a': 2, 'b': 1}"
      ]
     },
     "execution_count": 25,
     "metadata": {},
     "output_type": "execute_result"
    }
   ],
   "source": [
    "dr"
   ]
  },
  {
   "cell_type": "code",
   "execution_count": 26,
   "id": "c6d81726",
   "metadata": {},
   "outputs": [],
   "source": [
    "from collections import Counter"
   ]
  },
  {
   "cell_type": "code",
   "execution_count": 27,
   "id": "68309e9c",
   "metadata": {},
   "outputs": [],
   "source": [
    "dm = Counter(m) #this is another way of calling"
   ]
  },
  {
   "cell_type": "code",
   "execution_count": 28,
   "id": "c554f6c1",
   "metadata": {},
   "outputs": [
    {
     "data": {
      "text/plain": [
       "Counter({'f': 3, 'b': 1, 'd': 3, 'a': 2, 's': 2})"
      ]
     },
     "execution_count": 28,
     "metadata": {},
     "output_type": "execute_result"
    }
   ],
   "source": [
    "dm"
   ]
  },
  {
   "cell_type": "code",
   "execution_count": 29,
   "id": "355b9fd0",
   "metadata": {},
   "outputs": [
    {
     "data": {
      "text/plain": [
       "({'a': 2, 'b': 1}, Counter({'f': 3, 'b': 1, 'd': 3, 'a': 2, 's': 2}))"
      ]
     },
     "execution_count": 29,
     "metadata": {},
     "output_type": "execute_result"
    }
   ],
   "source": [
    "dr,dm"
   ]
  },
  {
   "cell_type": "code",
   "execution_count": 30,
   "id": "9cd06f20",
   "metadata": {},
   "outputs": [],
   "source": [
    "can_form_dr = all(key in dm and dm[key] >= dr[key] for key in dr.keys())"
   ]
  },
  {
   "cell_type": "code",
   "execution_count": 31,
   "id": "00c9f9aa",
   "metadata": {},
   "outputs": [
    {
     "data": {
      "text/plain": [
       "True"
      ]
     },
     "execution_count": 31,
     "metadata": {},
     "output_type": "execute_result"
    }
   ],
   "source": [
    "can_form_dr"
   ]
  },
  {
   "cell_type": "code",
   "execution_count": 34,
   "id": "d9e4ea77",
   "metadata": {},
   "outputs": [],
   "source": [
    "def fun(r,m):\n",
    "    cr = Counter(r)\n",
    "    cm = Counter(m)\n",
    "    for key in cr.keys():\n",
    "        if key not in cm.keys():\n",
    "            return false\n",
    "        if cr[key] < cm[key]:\n",
    "            return False\n",
    "    return True"
   ]
  },
  {
   "cell_type": "code",
   "execution_count": 38,
   "id": "4a1dbd37",
   "metadata": {},
   "outputs": [
    {
     "data": {
      "text/plain": [
       "False"
      ]
     },
     "execution_count": 38,
     "metadata": {},
     "output_type": "execute_result"
    }
   ],
   "source": [
    "fun(\"aaaaaab\",\"fffdbaaaaaaa\")"
   ]
  },
  {
   "cell_type": "code",
   "execution_count": null,
   "id": "1e694997",
   "metadata": {},
   "outputs": [],
   "source": []
  }
 ],
 "metadata": {
  "kernelspec": {
   "display_name": "Python 3 (ipykernel)",
   "language": "python",
   "name": "python3"
  },
  "language_info": {
   "codemirror_mode": {
    "name": "ipython",
    "version": 3
   },
   "file_extension": ".py",
   "mimetype": "text/x-python",
   "name": "python",
   "nbconvert_exporter": "python",
   "pygments_lexer": "ipython3",
   "version": "3.10.9"
  }
 },
 "nbformat": 4,
 "nbformat_minor": 5
}

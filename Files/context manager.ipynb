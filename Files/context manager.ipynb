{
 "cells": [
  {
   "cell_type": "code",
   "execution_count": 1,
   "id": "741bbc4c",
   "metadata": {},
   "outputs": [],
   "source": [
    "#context manager"
   ]
  },
  {
   "cell_type": "code",
   "execution_count": 2,
   "id": "733cc142",
   "metadata": {},
   "outputs": [],
   "source": [
    "#reading"
   ]
  },
  {
   "cell_type": "code",
   "execution_count": 6,
   "id": "178ee0b2",
   "metadata": {},
   "outputs": [
    {
     "name": "stdout",
     "output_type": "stream",
     "text": [
      "here is jewel\n"
     ]
    }
   ],
   "source": [
    "with open (\"first.txt\",\"r\") as file:\n",
    "    print(file.read())"
   ]
  },
  {
   "cell_type": "code",
   "execution_count": 7,
   "id": "9ebdd32f",
   "metadata": {},
   "outputs": [],
   "source": [
    "#writing to a file"
   ]
  },
  {
   "cell_type": "code",
   "execution_count": 8,
   "id": "66812101",
   "metadata": {},
   "outputs": [],
   "source": [
    "with open (\"second.txt\",\"w\") as file:\n",
    "    file.write(\"hello world, me girgaya\")"
   ]
  },
  {
   "cell_type": "markdown",
   "id": "1859b0c8",
   "metadata": {},
   "source": [
    " Python, a context manager is an object that defines the methods __enter__() and __exit__(). It is used to manage resources, such as files or database connections, in a way that ensures they are properly acquired and released, even in the presence of exceptions.\n",
    "\n",
    "The __enter__() method is called when entering the context, and it typically initializes and returns the resource being managed. The __exit__() method is called when exiting the context, and it is responsible for cleaning up and releasing any resources associated with the context.\n",
    "\n",
    "Context managers are commonly used with the with statement, which provides a convenient syntax for working with them. When you use a context manager with the with statement, the __enter__() method is called at the beginning of the block, and the __exit__() method is called at the end, regardless of whether an exception occurred or not. This ensures that the resources are always properly released.\n",
    "\n",
    "Here's an example of a context manager that manages a file:\n",
    "\n"
   ]
  },
  {
   "cell_type": "raw",
   "id": "ec24e814",
   "metadata": {},
   "source": [
    "# class FileManager:\n",
    "    def __init__(self, filename):\n",
    "        self.filename = filename\n",
    "        self.file = None\n",
    "\n",
    "    def __enter__(self):\n",
    "        self.file = open(self.filename, 'r')\n",
    "        return self.file\n",
    "\n",
    "    def __exit__(self, exc_type, exc_val, exc_tb):\n",
    "        self.file.close()\n",
    "\n",
    "# Usage\n",
    "with FileManager('example.txt') as f:\n",
    "    # Do something with the file\n",
    "    contents = f.read()\n",
    "    print(contents)"
   ]
  },
  {
   "cell_type": "code",
   "execution_count": null,
   "id": "bc5d6476",
   "metadata": {},
   "outputs": [],
   "source": []
  }
 ],
 "metadata": {
  "kernelspec": {
   "display_name": "Python 3 (ipykernel)",
   "language": "python",
   "name": "python3"
  },
  "language_info": {
   "codemirror_mode": {
    "name": "ipython",
    "version": 3
   },
   "file_extension": ".py",
   "mimetype": "text/x-python",
   "name": "python",
   "nbconvert_exporter": "python",
   "pygments_lexer": "ipython3",
   "version": "3.10.9"
  }
 },
 "nbformat": 4,
 "nbformat_minor": 5
}

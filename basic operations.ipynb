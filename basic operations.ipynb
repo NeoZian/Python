{
 "cells": [
  {
   "cell_type": "code",
   "execution_count": 1,
   "id": "12eeaec9",
   "metadata": {},
   "outputs": [],
   "source": [
    "#tables of 2"
   ]
  },
  {
   "cell_type": "code",
   "execution_count": 14,
   "id": "0922165b",
   "metadata": {},
   "outputs": [
    {
     "name": "stdout",
     "output_type": "stream",
     "text": [
      "2 x 1 = 2\n",
      "2 x 2 = 4\n",
      "2 x 3 = 6\n",
      "2 x 4 = 8\n",
      "2 x 5 = 10\n",
      "2 x 6 = 12\n",
      "2 x 7 = 14\n",
      "2 x 8 = 16\n",
      "2 x 9 = 18\n",
      "2 x 10 = 20\n"
     ]
    }
   ],
   "source": [
    "for i in range(1,11):\n",
    "    print(\"2\"+\" x \"+ str(i)+ \" = \" + str(2*i))"
   ]
  },
  {
   "cell_type": "code",
   "execution_count": 24,
   "id": "0720cf28",
   "metadata": {},
   "outputs": [],
   "source": [
    "#in a list\n",
    "t = [2*i for i in range(1,11)]"
   ]
  },
  {
   "cell_type": "code",
   "execution_count": 25,
   "id": "99904368",
   "metadata": {},
   "outputs": [
    {
     "data": {
      "text/plain": [
       "[2, 4, 6, 8, 10, 12, 14, 16, 18, 20]"
      ]
     },
     "execution_count": 25,
     "metadata": {},
     "output_type": "execute_result"
    }
   ],
   "source": [
    "t"
   ]
  },
  {
   "cell_type": "code",
   "execution_count": 26,
   "id": "d580fdfe",
   "metadata": {},
   "outputs": [],
   "source": [
    "#2d list "
   ]
  },
  {
   "cell_type": "code",
   "execution_count": 27,
   "id": "0044780f",
   "metadata": {},
   "outputs": [],
   "source": [
    "a = [\n",
    "    [1,2],\n",
    "    [3,4]\n",
    "]"
   ]
  },
  {
   "cell_type": "code",
   "execution_count": 28,
   "id": "d3b134c5",
   "metadata": {},
   "outputs": [
    {
     "data": {
      "text/plain": [
       "[[1, 2], [3, 4]]"
      ]
     },
     "execution_count": 28,
     "metadata": {},
     "output_type": "execute_result"
    }
   ],
   "source": [
    "a"
   ]
  },
  {
   "cell_type": "code",
   "execution_count": 29,
   "id": "96b17ef3",
   "metadata": {},
   "outputs": [
    {
     "data": {
      "text/plain": [
       "2"
      ]
     },
     "execution_count": 29,
     "metadata": {},
     "output_type": "execute_result"
    }
   ],
   "source": [
    "a[0][1]"
   ]
  },
  {
   "cell_type": "code",
   "execution_count": 31,
   "id": "b31c6b74",
   "metadata": {},
   "outputs": [
    {
     "data": {
      "text/plain": [
       "4"
      ]
     },
     "execution_count": 31,
     "metadata": {},
     "output_type": "execute_result"
    }
   ],
   "source": [
    "a[1][1]"
   ]
  },
  {
   "cell_type": "markdown",
   "id": "3ede8f7e",
   "metadata": {},
   "source": [
    "## len(var) => gives the length of that list/variable/array \n",
    "### len(a)  >> number of rows\n",
    "### len(a[0])  >> number of columns in row 0"
   ]
  },
  {
   "cell_type": "code",
   "execution_count": 35,
   "id": "5b172add",
   "metadata": {},
   "outputs": [
    {
     "name": "stdout",
     "output_type": "stream",
     "text": [
      "1\n",
      "2\n",
      "3\n",
      "4\n"
     ]
    }
   ],
   "source": [
    "for i in range(0,len(a)):\n",
    "    for j in range(0,len(a[0])):\n",
    "        print(a[i][j])"
   ]
  },
  {
   "cell_type": "code",
   "execution_count": 36,
   "id": "49d73200",
   "metadata": {},
   "outputs": [],
   "source": [
    "# to print in same line we gotta get rid of new line printing that is default in print()"
   ]
  },
  {
   "cell_type": "code",
   "execution_count": 37,
   "id": "4e7b3d88",
   "metadata": {},
   "outputs": [],
   "source": [
    "#use end = \" \""
   ]
  },
  {
   "cell_type": "code",
   "execution_count": 43,
   "id": "b576077e",
   "metadata": {},
   "outputs": [
    {
     "name": "stdout",
     "output_type": "stream",
     "text": [
      "1 2 \n",
      "3 4 \n"
     ]
    }
   ],
   "source": [
    "for i in range(0,len(a)):\n",
    "    for j in range(0,len(a[0])):\n",
    "        print(a[i][j], end = \" \")\n",
    "    print()"
   ]
  },
  {
   "cell_type": "code",
   "execution_count": 44,
   "id": "dbced6cc",
   "metadata": {},
   "outputs": [],
   "source": [
    "b = [[n*i for i in range(1,11)] for n in range(1,11)]"
   ]
  },
  {
   "cell_type": "code",
   "execution_count": 45,
   "id": "ea18f3ea",
   "metadata": {},
   "outputs": [
    {
     "data": {
      "text/plain": [
       "[[1, 2, 3, 4, 5, 6, 7, 8, 9, 10],\n",
       " [2, 4, 6, 8, 10, 12, 14, 16, 18, 20],\n",
       " [3, 6, 9, 12, 15, 18, 21, 24, 27, 30],\n",
       " [4, 8, 12, 16, 20, 24, 28, 32, 36, 40],\n",
       " [5, 10, 15, 20, 25, 30, 35, 40, 45, 50],\n",
       " [6, 12, 18, 24, 30, 36, 42, 48, 54, 60],\n",
       " [7, 14, 21, 28, 35, 42, 49, 56, 63, 70],\n",
       " [8, 16, 24, 32, 40, 48, 56, 64, 72, 80],\n",
       " [9, 18, 27, 36, 45, 54, 63, 72, 81, 90],\n",
       " [10, 20, 30, 40, 50, 60, 70, 80, 90, 100]]"
      ]
     },
     "execution_count": 45,
     "metadata": {},
     "output_type": "execute_result"
    }
   ],
   "source": [
    "b"
   ]
  },
  {
   "cell_type": "code",
   "execution_count": null,
   "id": "2906da29",
   "metadata": {},
   "outputs": [],
   "source": []
  }
 ],
 "metadata": {
  "kernelspec": {
   "display_name": "Python 3 (ipykernel)",
   "language": "python",
   "name": "python3"
  },
  "language_info": {
   "codemirror_mode": {
    "name": "ipython",
    "version": 3
   },
   "file_extension": ".py",
   "mimetype": "text/x-python",
   "name": "python",
   "nbconvert_exporter": "python",
   "pygments_lexer": "ipython3",
   "version": "3.10.9"
  }
 },
 "nbformat": 4,
 "nbformat_minor": 5
}

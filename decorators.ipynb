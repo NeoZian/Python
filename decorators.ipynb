{
 "cells": [
  {
   "cell_type": "code",
   "execution_count": 1,
   "id": "21f8d023",
   "metadata": {},
   "outputs": [],
   "source": [
    "#decorators"
   ]
  },
  {
   "cell_type": "code",
   "execution_count": 2,
   "id": "7da7b45b",
   "metadata": {},
   "outputs": [],
   "source": [
    "#functions are the first class citizen in python, \n",
    "#you can pass functions as a paremeter in python!"
   ]
  },
  {
   "cell_type": "code",
   "execution_count": 14,
   "id": "dfbfd465",
   "metadata": {},
   "outputs": [],
   "source": [
    "def decorator(original):\n",
    "    def wrapper():\n",
    "        print(\"extra line added\")\n",
    "        return original()\n",
    "    return wrapper"
   ]
  },
  {
   "cell_type": "code",
   "execution_count": 15,
   "id": "73713900",
   "metadata": {},
   "outputs": [],
   "source": [
    "def fun():\n",
    "    print(\"hello there\")"
   ]
  },
  {
   "cell_type": "code",
   "execution_count": 16,
   "id": "d61a42de",
   "metadata": {},
   "outputs": [],
   "source": [
    "decorated = decorator(fun)  #returns the wrapper\n"
   ]
  },
  {
   "cell_type": "code",
   "execution_count": 19,
   "id": "84d28c37",
   "metadata": {},
   "outputs": [
    {
     "data": {
      "text/plain": [
       "<function __main__.decorator.<locals>.wrapper()>"
      ]
     },
     "execution_count": 19,
     "metadata": {},
     "output_type": "execute_result"
    }
   ],
   "source": [
    "decorated #function object  "
   ]
  },
  {
   "cell_type": "code",
   "execution_count": 21,
   "id": "ddfe9a7e",
   "metadata": {},
   "outputs": [
    {
     "name": "stdout",
     "output_type": "stream",
     "text": [
      "extra line added\n",
      "hello there\n"
     ]
    }
   ],
   "source": [
    "decorated()  #calling the function, the wrapper() is called then it calls original()"
   ]
  },
  {
   "cell_type": "markdown",
   "id": "ea5e8ffb",
   "metadata": {},
   "source": [
    "### wrapper() or any function() with bracket is used to call the function\n",
    "### only wrapper of a function without () means passing the function object! "
   ]
  },
  {
   "cell_type": "code",
   "execution_count": 25,
   "id": "0927cc3c",
   "metadata": {},
   "outputs": [],
   "source": [
    "@decorator\n",
    "def fun2():\n",
    "    print(\"blka bla\")"
   ]
  },
  {
   "cell_type": "code",
   "execution_count": 26,
   "id": "3f94803c",
   "metadata": {},
   "outputs": [
    {
     "name": "stdout",
     "output_type": "stream",
     "text": [
      "extra line added\n",
      "blka bla\n"
     ]
    }
   ],
   "source": [
    "fun2()"
   ]
  },
  {
   "cell_type": "code",
   "execution_count": 27,
   "id": "d5cbc1ab",
   "metadata": {},
   "outputs": [],
   "source": [
    "def man():\n",
    "    print(\"testing\")"
   ]
  },
  {
   "cell_type": "code",
   "execution_count": 29,
   "id": "91a37c97",
   "metadata": {},
   "outputs": [
    {
     "ename": "TypeError",
     "evalue": "man() takes 0 positional arguments but 1 was given",
     "output_type": "error",
     "traceback": [
      "\u001b[0;31m---------------------------------------------------------------------------\u001b[0m",
      "\u001b[0;31mTypeError\u001b[0m                                 Traceback (most recent call last)",
      "Cell \u001b[0;32mIn[29], line 2\u001b[0m\n\u001b[1;32m      1\u001b[0m \u001b[38;5;129;43m@man\u001b[39;49m\u001b[43m       \u001b[49m\u001b[38;5;66;43;03m#calling this way sends an argument\u001b[39;49;00m\n\u001b[0;32m----> 2\u001b[0m \u001b[38;5;28;43;01mdef\u001b[39;49;00m\u001b[43m \u001b[49m\u001b[38;5;21;43mwoman\u001b[39;49m\u001b[43m(\u001b[49m\u001b[43m)\u001b[49m\u001b[43m:\u001b[49m\n\u001b[1;32m      3\u001b[0m \u001b[43m    \u001b[49m\u001b[38;5;28;43mprint\u001b[39;49m\u001b[43m(\u001b[49m\u001b[38;5;124;43m\"\u001b[39;49m\u001b[38;5;124;43mcalling\u001b[39;49m\u001b[38;5;124;43m\"\u001b[39;49m\u001b[43m)\u001b[49m\n",
      "\u001b[0;31mTypeError\u001b[0m: man() takes 0 positional arguments but 1 was given"
     ]
    }
   ],
   "source": [
    "@man       #calling this way sends an argument\n",
    "def woman():\n",
    "    print(\"calling\") "
   ]
  },
  {
   "cell_type": "code",
   "execution_count": null,
   "id": "a92a6df2",
   "metadata": {},
   "outputs": [],
   "source": []
  }
 ],
 "metadata": {
  "kernelspec": {
   "display_name": "Python 3 (ipykernel)",
   "language": "python",
   "name": "python3"
  },
  "language_info": {
   "codemirror_mode": {
    "name": "ipython",
    "version": 3
   },
   "file_extension": ".py",
   "mimetype": "text/x-python",
   "name": "python",
   "nbconvert_exporter": "python",
   "pygments_lexer": "ipython3",
   "version": "3.10.9"
  }
 },
 "nbformat": 4,
 "nbformat_minor": 5
}

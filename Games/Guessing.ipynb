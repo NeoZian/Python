{
 "cells": [
  {
   "cell_type": "code",
   "execution_count": 11,
   "id": "a65eee0e",
   "metadata": {},
   "outputs": [
    {
     "name": "stdout",
     "output_type": "stream",
     "text": [
      "Enter your nameJewel\n",
      "Hello Jewel, welcome!\n"
     ]
    }
   ],
   "source": [
    "name = input(\"Enter your name\")\n",
    "print(f\"Hello {name}, welcome!\")"
   ]
  },
  {
   "cell_type": "code",
   "execution_count": 12,
   "id": "4916f32a",
   "metadata": {},
   "outputs": [],
   "source": []
  },
  {
   "cell_type": "code",
   "execution_count": 16,
   "id": "f572290a",
   "metadata": {},
   "outputs": [
    {
     "name": "stdout",
     "output_type": "stream",
     "text": [
      "a _ _ l _ \n",
      " Guess a character:p\n",
      "a p p l _ \n",
      " Guess a character:p\n",
      "a p p l _ \n",
      " Guess a character:p\n",
      "a p p l _ \n",
      " Guess a character:p\n",
      "a p p l _ \n",
      " Guess a character:l\n",
      "a p p l _ \n",
      " Guess a character:e\n",
      "a p p l e \n",
      "|YOU WON|\n",
      "Your score is 50\n"
     ]
    }
   ],
   "source": [
    "word = \"apple\"\n",
    "guesses = \"al\"\n",
    "chances = 10\n",
    "\n",
    "\n",
    "\n",
    "while chances>0:\n",
    "    won = True\n",
    "    for ch in word:\n",
    "        if ch in guesses:\n",
    "            print(ch, end=\" \")\n",
    "        else:\n",
    "            print(\"_\",end=\" \")\n",
    "            won = False\n",
    "            \n",
    "    if won:\n",
    "        print(\"\\n|YOU WON|\")\n",
    "        print(f\"Your score is {chances*5}\")\n",
    "        break\n",
    "    \n",
    "    #user input\n",
    "    guess = input(\"\\n Guess a character:\")\n",
    "    guesses += guess\n",
    "    \n",
    "    if guess not in word:\n",
    "        chances -=1\n",
    "        print(\"\\nwrong answer!try again\")\n",
    "        print(f\"\\n Chances left {chances}\")\n",
    "        \n",
    "        if chances == 0:\n",
    "            print(\"You Lose!!!\")\n",
    "            break\n",
    "        "
   ]
  },
  {
   "cell_type": "code",
   "execution_count": null,
   "id": "cd4ea6b0",
   "metadata": {},
   "outputs": [],
   "source": []
  }
 ],
 "metadata": {
  "kernelspec": {
   "display_name": "Python 3 (ipykernel)",
   "language": "python",
   "name": "python3"
  },
  "language_info": {
   "codemirror_mode": {
    "name": "ipython",
    "version": 3
   },
   "file_extension": ".py",
   "mimetype": "text/x-python",
   "name": "python",
   "nbconvert_exporter": "python",
   "pygments_lexer": "ipython3",
   "version": "3.10.9"
  }
 },
 "nbformat": 4,
 "nbformat_minor": 5
}

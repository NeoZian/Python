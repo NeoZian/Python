{
 "cells": [
  {
   "cell_type": "code",
   "execution_count": 1,
   "id": "2ebba080",
   "metadata": {},
   "outputs": [
    {
     "name": "stdout",
     "output_type": "stream",
     "text": [
      "Welcome to the Word Guessing Game!\n",
      "Guess the word based on the provided hint.\n",
      "You have 4 chances to guess the word.\n",
      "Hint: ba____\n",
      "Enter your guess: n\n",
      "Correct guess!\n",
      "Chances remaining: 4\n",
      "Current progress: ban_n_\n",
      "Enter your guess: t\n",
      "Wrong guess. Try again.\n",
      "Chances remaining: 3\n",
      "Current progress: ban_n_\n",
      "Enter your guess: y\n",
      "Wrong guess. Try again.\n",
      "Chances remaining: 2\n",
      "Current progress: ban_n_\n",
      "Enter your guess: r\n",
      "Wrong guess. Try again.\n",
      "Chances remaining: 1\n",
      "Current progress: ban_n_\n",
      "Enter your guess: e\n",
      "Wrong guess. Try again.\n",
      "Chances remaining: 0\n",
      "Current progress: ban_n_\n",
      "Game over! You ran out of chances.\n",
      "The word was: banana\n"
     ]
    }
   ],
   "source": [
    "import random\n",
    "\n",
    "def play_game():\n",
    "    words = ['apple', 'banana', 'orange', 'kiwi', 'mango']\n",
    "    random_word = random.choice(words)\n",
    "    hint = random_word[:2] + '_' * (len(random_word) - 2)\n",
    "\n",
    "    print(\"Welcome to the Word Guessing Game!\")\n",
    "    print(\"Guess the word based on the provided hint.\")\n",
    "    print(\"You have 4 chances to guess the word.\")\n",
    "    print(\"Hint:\", hint)\n",
    "\n",
    "    chances = 4\n",
    "    guessed_word = hint\n",
    "\n",
    "    while chances > 0:\n",
    "        guess = input(\"Enter your guess: \")\n",
    "\n",
    "        if guess == random_word:\n",
    "            print(\"Congratulations! You guessed the word correctly.\")\n",
    "            return\n",
    "\n",
    "        if guess in random_word:\n",
    "            indices = [i for i, char in enumerate(random_word) if char == guess]\n",
    "            guessed_word = ''.join([\n",
    "                guess if i in indices else guessed_word[i]\n",
    "                for i in range(len(random_word))\n",
    "            ])\n",
    "            print(\"Correct guess!\")\n",
    "        else:\n",
    "            chances -= 1\n",
    "            print(\"Wrong guess. Try again.\")\n",
    "\n",
    "        print(\"Chances remaining:\", chances)\n",
    "        print(\"Current progress:\", guessed_word)\n",
    "\n",
    "    print(\"Game over! You ran out of chances.\")\n",
    "    print(\"The word was:\", random_word)\n",
    "\n",
    "play_game()"
   ]
  },
  {
   "cell_type": "code",
   "execution_count": null,
   "id": "b4dc9976",
   "metadata": {},
   "outputs": [],
   "source": []
  }
 ],
 "metadata": {
  "kernelspec": {
   "display_name": "Python 3 (ipykernel)",
   "language": "python",
   "name": "python3"
  },
  "language_info": {
   "codemirror_mode": {
    "name": "ipython",
    "version": 3
   },
   "file_extension": ".py",
   "mimetype": "text/x-python",
   "name": "python",
   "nbconvert_exporter": "python",
   "pygments_lexer": "ipython3",
   "version": "3.10.9"
  }
 },
 "nbformat": 4,
 "nbformat_minor": 5
}

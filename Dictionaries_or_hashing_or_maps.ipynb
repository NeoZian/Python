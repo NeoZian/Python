{
 "cells": [
  {
   "cell_type": "markdown",
   "id": "1ab3037d",
   "metadata": {},
   "source": [
    "# Introduction to Dictionaries:\n",
    "\n",
    "In Python, a dictionary is a mutable, unordered collection of key-value pairs. Dictionaries are also known as associative arrays, hash maps, or hash tables in other programming languages. They are defined using curly braces {} and consist of comma-separated key-value pairs.\n",
    "\n",
    "### Creating a Dictionary:\n",
    "\n",
    "You can create an empty dictionary or initialize it with values using the following syntax:"
   ]
  },
  {
   "cell_type": "code",
   "execution_count": 2,
   "id": "58848040",
   "metadata": {},
   "outputs": [],
   "source": [
    "# Creating an empty dictionary\n",
    "my_dict = {}\n",
    "\n",
    "# Initializing a dictionary with values\n",
    "my_dict = {\"key1\": 1, \"key2\": 2, \"key3\": 3}\n"
   ]
  },
  {
   "cell_type": "code",
   "execution_count": 3,
   "id": "358bf534",
   "metadata": {},
   "outputs": [
    {
     "data": {
      "text/plain": [
       "{'key1': 1, 'key2': 2, 'key3': 3}"
      ]
     },
     "execution_count": 3,
     "metadata": {},
     "output_type": "execute_result"
    }
   ],
   "source": [
    "my_dict"
   ]
  },
  {
   "cell_type": "markdown",
   "id": "69a4fb4b",
   "metadata": {},
   "source": [
    "### Accessing Values in a Dictionary:\n",
    "\n",
    "You can access the values in a dictionary by specifying the corresponding key within square brackets []. If the key is present, it will return the associated value; otherwise, it will raise a KeyError."
   ]
  },
  {
   "cell_type": "code",
   "execution_count": 4,
   "id": "06ef2ed5",
   "metadata": {},
   "outputs": [
    {
     "name": "stdout",
     "output_type": "stream",
     "text": [
      "John\n",
      "25\n"
     ]
    }
   ],
   "source": [
    "my_dict = {\"name\": \"John\", \"age\": 25, \"city\": \"New York\"}\n",
    "\n",
    "print(my_dict[\"name\"])  # Output: John\n",
    "print(my_dict[\"age\"])   # Output: 25\n"
   ]
  },
  {
   "cell_type": "markdown",
   "id": "04562868",
   "metadata": {},
   "source": [
    "### Modifying Dictionary Values:\n",
    "\n",
    "To modify the value associated with a specific key in a dictionary, you can assign a new value to that key.\n",
    "\n",
    "\n",
    "\n",
    "\n"
   ]
  },
  {
   "cell_type": "code",
   "execution_count": 5,
   "id": "8c1a8670",
   "metadata": {},
   "outputs": [
    {
     "name": "stdout",
     "output_type": "stream",
     "text": [
      "30\n"
     ]
    }
   ],
   "source": [
    " my_dict = {\"name\": \"John\", \"age\": 25}\n",
    "\n",
    "my_dict[\"age\"] = 30  # Modifying the value associated with \"age\" key\n",
    "\n",
    "print(my_dict[\"age\"])  # Output: 30\n"
   ]
  },
  {
   "cell_type": "markdown",
   "id": "c5003a93",
   "metadata": {},
   "source": [
    "### Adding and Removing Items:\n",
    "\n",
    "You can add new key-value pairs to a dictionary or remove existing items using the following methods:\n",
    "Adding Items:\n",
    "\n",
    "To add a new key-value pair, you can simply assign a value to a new key or an existing key."
   ]
  },
  {
   "cell_type": "code",
   "execution_count": 6,
   "id": "bf95bf66",
   "metadata": {},
   "outputs": [
    {
     "name": "stdout",
     "output_type": "stream",
     "text": [
      "{'name': 'John', 'age': 25, 'city': 'New York'}\n"
     ]
    }
   ],
   "source": [
    "my_dict = {\"name\": \"John\", \"age\": 25}\n",
    "\n",
    "my_dict[\"city\"] = \"New York\"  # Adding a new key-value pair\n",
    "\n",
    "print(my_dict)  # Output: {\"name\": \"John\", \"age\": 25, \"city\": \"New York\"}"
   ]
  },
  {
   "cell_type": "markdown",
   "id": "3703756d",
   "metadata": {},
   "source": [
    "### Removing Items:\n",
    "\n",
    "To remove an item from a dictionary, you can use the del keyword followed by the key."
   ]
  },
  {
   "cell_type": "code",
   "execution_count": 7,
   "id": "920d5773",
   "metadata": {},
   "outputs": [
    {
     "name": "stdout",
     "output_type": "stream",
     "text": [
      "{'name': 'John'}\n"
     ]
    }
   ],
   "source": [
    "my_dict = {\"name\": \"John\", \"age\": 25}\n",
    "\n",
    "del my_dict[\"age\"]  # Removing the item with key \"age\"\n",
    "\n",
    "print(my_dict)  # Output: {\"name\": \"John\"}"
   ]
  },
  {
   "cell_type": "markdown",
   "id": "c7e849c2",
   "metadata": {},
   "source": [
    "### Dictionary Methods:\n",
    "\n",
    "Dictionaries provide several useful methods to perform various operations:\n",
    "keys():\n",
    "\n",
    "The keys() method returns a view object that contains all the keys present in the dictionary. You can convert it to a list or iterate over it."
   ]
  },
  {
   "cell_type": "code",
   "execution_count": 8,
   "id": "65a20002",
   "metadata": {},
   "outputs": [
    {
     "name": "stdout",
     "output_type": "stream",
     "text": [
      "dict_keys(['name', 'age', 'city'])\n",
      "['name', 'age', 'city']\n",
      "name\n",
      "age\n",
      "city\n"
     ]
    }
   ],
   "source": [
    "my_dict = {\"name\": \"John\", \"age\": 25, \"city\": \"New York\"}\n",
    "\n",
    "keys = my_dict.keys()\n",
    "print(keys)  # Output: dict_keys(['name', 'age', 'city'])\n",
    "\n",
    "# Converting the view object to a list\n",
    "key_list = list(keys)\n",
    "print(key_list)  # Output: ['name', 'age', 'city']\n",
    "\n",
    "# Iterating over the keys\n",
    "for key in keys:\n",
    "    print(key)"
   ]
  },
  {
   "cell_type": "markdown",
   "id": "98e16c99",
   "metadata": {},
   "source": [
    "values():\n",
    "\n",
    "The values() method returns a view object that contains all the values present in the dictionary. You can convert it to a list or iterate over it."
   ]
  },
  {
   "cell_type": "code",
   "execution_count": 10,
   "id": "1b281c91",
   "metadata": {},
   "outputs": [
    {
     "name": "stdout",
     "output_type": "stream",
     "text": [
      "dict_values(['John', 25, 'New York'])\n",
      "['John', 25, 'New York']\n",
      "John\n",
      "25\n",
      "New York\n",
      "dict_items([('name', 'John'), ('age', 25), ('city', 'New York')])\n",
      "[('name', 'John'), ('age', 25), ('city', 'New York')]\n",
      "name John\n",
      "age 25\n",
      "city New York\n"
     ]
    }
   ],
   "source": [
    "my_dict = {\"name\": \"John\", \"age\": 25, \"city\": \"New York\"}\n",
    "\n",
    "values = my_dict.values()\n",
    "print(values)  # Output: dict_values(['John', 25, 'New York'])\n",
    "\n",
    "# Converting the view object to a list\n",
    "value_list = list(values)\n",
    "print(value_list)  # Output: ['John', 25, 'New York']\n",
    "\n",
    "# Iterating over the values\n",
    "for value in values:\n",
    "    print(value)\n",
    "    \n",
    "    \n",
    "   # items():\n",
    "\n",
    "#The items() method returns a view object that contains tuples of key-value pairs. \n",
    "#You can convert it to a list or iterate over it.\n",
    "\n",
    "\n",
    "my_dict = {\"name\": \"John\", \"age\": 25, \"city\": \"New York\"}\n",
    "\n",
    "items = my_dict.items()\n",
    "print(items)  # Output: dict_items([('name', 'John'), ('age', 25), ('city', 'New York')])\n",
    "\n",
    "# Converting the view object to a list\n",
    "item_list = list(items)\n",
    "print(item_list)  # Output: [('name', 'John'), ('age', 25), ('city', 'New York')]\n",
    "\n",
    "# Iterating over the key-value pairs\n",
    "for key, value in items:\n",
    "    print(key, value)"
   ]
  },
  {
   "cell_type": "markdown",
   "id": "315ba814",
   "metadata": {},
   "source": [
    "### Other Useful Methods:\n",
    "\n",
    "    len(dict): Returns the number of key-value pairs in the dictionary.\n",
    "    dict.get(key): Returns the value associated with the specified key. If the key doesn't exist, it returns None (or a default value if specified).\n",
    "    dict.pop(key): Removes the key-value pair associated with the specified key and returns its value.\n",
    "    dict.update(other_dict): Updates the dictionary by adding key-value pairs from another dictionary or an iterable of key-value pairs.\n",
    "    dict.clear(): Removes all key-value pairs from the dictionary, making it empty.\n",
    "\n",
    "These are just a few of the commonly used methods. You can explore more dictionary methods in the Python documentation."
   ]
  },
  {
   "cell_type": "markdown",
   "id": "ec9b9c18",
   "metadata": {},
   "source": [
    "# Advanced Dictionary Concepts:\n",
    "\n",
    "Now that we have covered the basics of dictionaries, let's move on to more advanced concepts.\n",
    "### Dictionary Comprehension:\n",
    "\n",
    "Similar to list comprehension, Python also supports dictionary comprehension. It allows you to create dictionaries in a concise and expressive manner."
   ]
  },
  {
   "cell_type": "code",
   "execution_count": 11,
   "id": "f7b1a59d",
   "metadata": {},
   "outputs": [
    {
     "name": "stdout",
     "output_type": "stream",
     "text": [
      "{1: 1, 2: 4, 3: 9, 4: 16, 5: 25}\n"
     ]
    }
   ],
   "source": [
    "# Creating a dictionary using dictionary comprehension\n",
    "numbers = [1, 2, 3, 4, 5]\n",
    "squared_dict = {num: num**2 for num in numbers}\n",
    "\n",
    "print(squared_dict)\n",
    "# Output: {1: 1, 2: 4, 3: 9, 4: 16, 5: 25}\n"
   ]
  },
  {
   "cell_type": "markdown",
   "id": "9bc3a064",
   "metadata": {},
   "source": [
    "## Nested Dictionaries:\n",
    "\n",
    "Dictionaries can contain other dictionaries as their values, allowing you to create nested data structures."
   ]
  },
  {
   "cell_type": "code",
   "execution_count": 13,
   "id": "a3a92537",
   "metadata": {},
   "outputs": [
    {
     "name": "stdout",
     "output_type": "stream",
     "text": [
      "90\n"
     ]
    }
   ],
   "source": [
    "student = {\n",
    "    \"name\": \"John\",\n",
    "    \"age\": 20,\n",
    "    \"marks\": {\n",
    "        \"math\": 90,\n",
    "        \"science\": 85,\n",
    "        \"english\": 95\n",
    "    }\n",
    "}\n",
    "\n",
    "print(student[\"marks\"][\"math\"])  # Output: 90"
   ]
  },
  {
   "cell_type": "markdown",
   "id": "a643d9c9",
   "metadata": {},
   "source": [
    "### Default Values with defaultdict:\n",
    "\n",
    "The defaultdict class from the collections module is a subclass of dictionary that provides a default value for non-existing keys. It eliminates the need to check for key existence or use dict.get()."
   ]
  },
  {
   "cell_type": "code",
   "execution_count": 14,
   "id": "289dd5ad",
   "metadata": {},
   "outputs": [
    {
     "name": "stdout",
     "output_type": "stream",
     "text": [
      "10\n",
      "0\n"
     ]
    }
   ],
   "source": [
    "from collections import defaultdict\n",
    "\n",
    "my_dict = defaultdict(int)\n",
    "my_dict[\"key1\"] = 10\n",
    "\n",
    "print(my_dict[\"key1\"])   # Output: 10\n",
    "print(my_dict[\"key2\"])   # Output: 0 (default value for int is 0)\n"
   ]
  },
  {
   "cell_type": "markdown",
   "id": "c8e8d928",
   "metadata": {},
   "source": [
    "### Sorting a Dictionary:\n",
    "\n",
    "Dictionaries in Python are inherently unordered. However, if you need to retrieve the items in a specific order, you can use the sorted() function or other techniques."
   ]
  },
  {
   "cell_type": "code",
   "execution_count": 15,
   "id": "7af98481",
   "metadata": {},
   "outputs": [
    {
     "name": "stdout",
     "output_type": "stream",
     "text": [
      "{'age': 25, 'city': 'New York', 'name': 'John'}\n"
     ]
    }
   ],
   "source": [
    "my_dict = {\"name\": \"John\", \"age\": 25, \"city\": \"New York\"}\n",
    "\n",
    "# Sorting by keys\n",
    "sorted_dict = {k: my_dict[k] for k in sorted(my_dict)}\n",
    "\n",
    "print(sorted_dict)\n",
    "# Output: {\"age\": 25, \"city\": \"New York\", \"name\": \"John\"}"
   ]
  },
  {
   "cell_type": "code",
   "execution_count": null,
   "id": "74b4f9d1",
   "metadata": {},
   "outputs": [],
   "source": []
  }
 ],
 "metadata": {
  "kernelspec": {
   "display_name": "Python 3 (ipykernel)",
   "language": "python",
   "name": "python3"
  },
  "language_info": {
   "codemirror_mode": {
    "name": "ipython",
    "version": 3
   },
   "file_extension": ".py",
   "mimetype": "text/x-python",
   "name": "python",
   "nbconvert_exporter": "python",
   "pygments_lexer": "ipython3",
   "version": "3.10.9"
  }
 },
 "nbformat": 4,
 "nbformat_minor": 5
}

{
 "cells": [
  {
   "cell_type": "code",
   "execution_count": 1,
   "id": "159e560c",
   "metadata": {},
   "outputs": [],
   "source": [
    "def fun():\n",
    "    print(\"i ve been called\")"
   ]
  },
  {
   "cell_type": "code",
   "execution_count": 2,
   "id": "b9b65745",
   "metadata": {},
   "outputs": [
    {
     "name": "stdout",
     "output_type": "stream",
     "text": [
      "i ve been called\n"
     ]
    }
   ],
   "source": [
    "fun()"
   ]
  },
  {
   "cell_type": "code",
   "execution_count": 3,
   "id": "7a43a114",
   "metadata": {},
   "outputs": [],
   "source": [
    "def sum(a,b):\n",
    "    s = a+b\n",
    "    return s"
   ]
  },
  {
   "cell_type": "code",
   "execution_count": 4,
   "id": "8b33b740",
   "metadata": {},
   "outputs": [
    {
     "data": {
      "text/plain": [
       "120"
      ]
     },
     "execution_count": 4,
     "metadata": {},
     "output_type": "execute_result"
    }
   ],
   "source": [
    "sum(100,20)"
   ]
  },
  {
   "cell_type": "code",
   "execution_count": 5,
   "id": "9465978c",
   "metadata": {},
   "outputs": [],
   "source": [
    "def product(n1,n2):\n",
    "    return n1*n2"
   ]
  },
  {
   "cell_type": "code",
   "execution_count": 6,
   "id": "c43c470f",
   "metadata": {},
   "outputs": [
    {
     "name": "stdout",
     "output_type": "stream",
     "text": [
      "169\n"
     ]
    }
   ],
   "source": [
    "print(product(13,13))"
   ]
  },
  {
   "cell_type": "markdown",
   "id": "1a6d6fa6",
   "metadata": {},
   "source": [
    "# lambda Function>>  lambda arguments : expression\n",
    "## also known as inline or one line function\n",
    "### is used when the function body is too small, can be turned into a lambda one!"
   ]
  },
  {
   "cell_type": "code",
   "execution_count": 9,
   "id": "fbdded45",
   "metadata": {},
   "outputs": [],
   "source": [
    "sum_lam = lambda a,b : a+b"
   ]
  },
  {
   "cell_type": "code",
   "execution_count": 10,
   "id": "ff89cdfa",
   "metadata": {},
   "outputs": [
    {
     "data": {
      "text/plain": [
       "100"
      ]
     },
     "execution_count": 10,
     "metadata": {},
     "output_type": "execute_result"
    }
   ],
   "source": [
    "sum_lam(99,1)"
   ]
  },
  {
   "cell_type": "code",
   "execution_count": 11,
   "id": "fc461ba2",
   "metadata": {},
   "outputs": [],
   "source": [
    "p = lambda a,b,c: (a+b)*c"
   ]
  },
  {
   "cell_type": "code",
   "execution_count": 12,
   "id": "826bcc10",
   "metadata": {},
   "outputs": [
    {
     "data": {
      "text/plain": [
       "24"
      ]
     },
     "execution_count": 12,
     "metadata": {},
     "output_type": "execute_result"
    }
   ],
   "source": [
    "p(3,5,3)"
   ]
  },
  {
   "cell_type": "code",
   "execution_count": 22,
   "id": "4f304b30",
   "metadata": {},
   "outputs": [],
   "source": [
    "print?\n"
   ]
  },
  {
   "cell_type": "code",
   "execution_count": 17,
   "id": "c6cae2b2",
   "metadata": {},
   "outputs": [],
   "source": [
    " # this '?' provides details of that keyword in python!!! "
   ]
  },
  {
   "cell_type": "code",
   "execution_count": 23,
   "id": "5a1c6653",
   "metadata": {},
   "outputs": [],
   "source": [
    "map?"
   ]
  },
  {
   "cell_type": "markdown",
   "id": "a6ef7250",
   "metadata": {},
   "source": [
    "# Map\n",
    "## map(function, iterable)"
   ]
  },
  {
   "cell_type": "code",
   "execution_count": 24,
   "id": "e52ebe84",
   "metadata": {},
   "outputs": [],
   "source": [
    "a = [10,20,30,40,50]"
   ]
  },
  {
   "cell_type": "code",
   "execution_count": 27,
   "id": "26c73a13",
   "metadata": {},
   "outputs": [],
   "source": [
    "def fun(v):\n",
    "    return(2*v)"
   ]
  },
  {
   "cell_type": "code",
   "execution_count": 28,
   "id": "22da0b7a",
   "metadata": {},
   "outputs": [
    {
     "data": {
      "text/plain": [
       "[20, 40, 60, 80, 100]"
      ]
     },
     "execution_count": 28,
     "metadata": {},
     "output_type": "execute_result"
    }
   ],
   "source": [
    "list(map(fun,a))"
   ]
  },
  {
   "cell_type": "code",
   "execution_count": 31,
   "id": "29faa390",
   "metadata": {},
   "outputs": [
    {
     "data": {
      "text/plain": [
       "[100, 400, 900, 1600, 2500]"
      ]
     },
     "execution_count": 31,
     "metadata": {},
     "output_type": "execute_result"
    }
   ],
   "source": [
    "#using lambda\n",
    "list(map(lambda p: p**2,a))  #return the squareof the list"
   ]
  },
  {
   "cell_type": "code",
   "execution_count": 38,
   "id": "abaf5065",
   "metadata": {},
   "outputs": [],
   "source": [
    "#without enlisting but using a variable\n",
    "tt = map(lambda dd: dd**2,a)"
   ]
  },
  {
   "cell_type": "code",
   "execution_count": 39,
   "id": "b84ff486",
   "metadata": {},
   "outputs": [
    {
     "name": "stdout",
     "output_type": "stream",
     "text": [
      "<map object at 0x7fc97c7611e0>\n"
     ]
    }
   ],
   "source": [
    "print(tt)   #you must enlist it when printing"
   ]
  },
  {
   "cell_type": "code",
   "execution_count": 40,
   "id": "c30a7274",
   "metadata": {},
   "outputs": [
    {
     "name": "stdout",
     "output_type": "stream",
     "text": [
      "[100, 400, 900, 1600, 2500]\n"
     ]
    }
   ],
   "source": [
    "print(list(tt))        # direct list() would work too"
   ]
  },
  {
   "cell_type": "markdown",
   "id": "210e115d",
   "metadata": {},
   "source": [
    "# filter()\n",
    "## filter (function, iterable)"
   ]
  },
  {
   "cell_type": "code",
   "execution_count": 41,
   "id": "ba7b76a8",
   "metadata": {},
   "outputs": [],
   "source": [
    "def isEven(x):\n",
    "    if x%2 == 0:\n",
    "        return True\n",
    "    else:\n",
    "        return False"
   ]
  },
  {
   "cell_type": "code",
   "execution_count": 42,
   "id": "41a1be6f",
   "metadata": {},
   "outputs": [],
   "source": [
    "lis = [1,2,3,4,5,6,7,8,9]"
   ]
  },
  {
   "cell_type": "code",
   "execution_count": 45,
   "id": "f2c86de0",
   "metadata": {},
   "outputs": [],
   "source": [
    "even = filter(isEven, lis)"
   ]
  },
  {
   "cell_type": "code",
   "execution_count": 47,
   "id": "a9171e5b",
   "metadata": {},
   "outputs": [
    {
     "data": {
      "text/plain": [
       "[2, 4, 6, 8]"
      ]
     },
     "execution_count": 47,
     "metadata": {},
     "output_type": "execute_result"
    }
   ],
   "source": [
    "list(even)"
   ]
  },
  {
   "cell_type": "code",
   "execution_count": 48,
   "id": "31f0d2c3",
   "metadata": {},
   "outputs": [],
   "source": [
    "ev_lambda = filter(lambda x : x%2==0, lis)"
   ]
  },
  {
   "cell_type": "code",
   "execution_count": 49,
   "id": "0f1dd679",
   "metadata": {},
   "outputs": [
    {
     "data": {
      "text/plain": [
       "[2, 4, 6, 8]"
      ]
     },
     "execution_count": 49,
     "metadata": {},
     "output_type": "execute_result"
    }
   ],
   "source": [
    "list(ev_lambda)"
   ]
  },
  {
   "cell_type": "markdown",
   "id": "9f5e4562",
   "metadata": {},
   "source": [
    "# comments vs miltiline strings"
   ]
  },
  {
   "cell_type": "markdown",
   "id": "7b5b50b9",
   "metadata": {},
   "source": [
    "### comments : # ..........\n",
    "### multiline string:  \"\"\"fdfdfdfdfdfdfd     \"\"\"\n",
    "or  '''  .......... '''\n"
   ]
  },
  {
   "cell_type": "code",
   "execution_count": 54,
   "id": "b24b58d3",
   "metadata": {},
   "outputs": [],
   "source": [
    "# a\n",
    "# a\n",
    "# a\n",
    "# a\n",
    "# a   click on ctrl+ /  >> provides multiline comments at a time"
   ]
  },
  {
   "cell_type": "markdown",
   "id": "3d628a12",
   "metadata": {},
   "source": [
    "# isinstance()"
   ]
  },
  {
   "cell_type": "code",
   "execution_count": 51,
   "id": "90e77fb8",
   "metadata": {},
   "outputs": [],
   "source": [
    "a = 10"
   ]
  },
  {
   "cell_type": "code",
   "execution_count": 52,
   "id": "34e8b02b",
   "metadata": {},
   "outputs": [
    {
     "data": {
      "text/plain": [
       "True"
      ]
     },
     "execution_count": 52,
     "metadata": {},
     "output_type": "execute_result"
    }
   ],
   "source": [
    "isinstance(a, object)  #asking whether a is an object of object class?"
   ]
  },
  {
   "cell_type": "code",
   "execution_count": 53,
   "id": "985a5d02",
   "metadata": {},
   "outputs": [
    {
     "data": {
      "text/plain": [
       "True"
      ]
     },
     "execution_count": 53,
     "metadata": {},
     "output_type": "execute_result"
    }
   ],
   "source": [
    "isinstance(isEven, object)"
   ]
  },
  {
   "cell_type": "code",
   "execution_count": null,
   "id": "2738f63b",
   "metadata": {},
   "outputs": [],
   "source": []
  }
 ],
 "metadata": {
  "kernelspec": {
   "display_name": "Python 3 (ipykernel)",
   "language": "python",
   "name": "python3"
  },
  "language_info": {
   "codemirror_mode": {
    "name": "ipython",
    "version": 3
   },
   "file_extension": ".py",
   "mimetype": "text/x-python",
   "name": "python",
   "nbconvert_exporter": "python",
   "pygments_lexer": "ipython3",
   "version": "3.10.9"
  }
 },
 "nbformat": 4,
 "nbformat_minor": 5
}

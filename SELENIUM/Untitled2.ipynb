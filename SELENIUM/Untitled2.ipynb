{
 "cells": [
  {
   "cell_type": "code",
   "execution_count": 3,
   "id": "13d9ec9c",
   "metadata": {},
   "outputs": [],
   "source": [
    "from selenium import webdriver\n",
    "from webdriver_manager.chrome import ChromeDriverManager\n",
    "from selenium.webdriver.common.keys import Keys\n",
    "from selenium.webdriver.common.by import By\n",
    "from selenium.webdriver.support.ui import WebDriverWait\n",
    "from selenium.webdriver.support import expected_conditions as EC\n",
    "# from webdriver_manager.utils import cache\n",
    "\n",
    "# cache.clear_cache()\n",
    "\n",
    "# Initialize the Chrome driver\n",
    "chrome = webdriver.Chrome()\n",
    "\n",
    "\n",
    "# Open WhatsApp web\n",
    "chrome.get(\"https://web.whatsapp.com\")"
   ]
  },
  {
   "cell_type": "code",
   "execution_count": 4,
   "id": "e6063820",
   "metadata": {},
   "outputs": [
    {
     "name": "stdout",
     "output_type": "stream",
     "text": [
      "Exception occurred: Message: element not interactable\n",
      "  (Session info: chrome=114.0.5735.90)\n",
      "Stacktrace:\n",
      "#0 0x56317bd114e3 <unknown>\n",
      "#1 0x56317ba40b00 <unknown>\n",
      "#2 0x56317ba7752c <unknown>\n",
      "#3 0x56317ba76b0a <unknown>\n",
      "#4 0x56317ba9c012 <unknown>\n",
      "#5 0x56317ba72b03 <unknown>\n",
      "#6 0x56317ba9c1de <unknown>\n",
      "#7 0x56317bab430e <unknown>\n",
      "#8 0x56317ba9bde3 <unknown>\n",
      "#9 0x56317ba712dd <unknown>\n",
      "#10 0x56317ba7234e <unknown>\n",
      "#11 0x56317bcd13e4 <unknown>\n",
      "#12 0x56317bcd53d7 <unknown>\n",
      "#13 0x56317bcdfb20 <unknown>\n",
      "#14 0x56317bcd6023 <unknown>\n",
      "#15 0x56317bca41aa <unknown>\n",
      "#16 0x56317bcfa6b8 <unknown>\n",
      "#17 0x56317bcfa847 <unknown>\n",
      "#18 0x56317bd0a243 <unknown>\n",
      "#19 0x7f430f494b43 <unknown>\n",
      "\n"
     ]
    }
   ],
   "source": [
    "# Wait for the search box element to be present\n",
    "wait = WebDriverWait(chrome, 10)\n",
    "\n",
    "try:\n",
    "    # Switch to the desired window or tab\n",
    "    chrome.switch_to.window(chrome.window_handles[-1])\n",
    "\n",
    "    # Wait for the search box element to be present\n",
    "    search_box = wait.until(EC.presence_of_element_located((By.CLASS_NAME, \"_2vDPL\")))\n",
    "\n",
    "    # Perform actions on the search box, for example, entering text\n",
    "    search_box.send_keys(\"Ammu Gp\")\n",
    "\n",
    "    # Press ENTER\n",
    "    search_box.send_keys(Keys.ENTER)\n",
    "\n",
    "except Exception as e:\n",
    "    print(f\"Exception occurred: {str(e)}\")\n",
    "    # Handle the exception accordingly\n"
   ]
  },
  {
   "cell_type": "code",
   "execution_count": null,
   "id": "e2dfd4a0",
   "metadata": {},
   "outputs": [],
   "source": []
  }
 ],
 "metadata": {
  "kernelspec": {
   "display_name": "Python 3 (ipykernel)",
   "language": "python",
   "name": "python3"
  },
  "language_info": {
   "codemirror_mode": {
    "name": "ipython",
    "version": 3
   },
   "file_extension": ".py",
   "mimetype": "text/x-python",
   "name": "python",
   "nbconvert_exporter": "python",
   "pygments_lexer": "ipython3",
   "version": "3.10.9"
  }
 },
 "nbformat": 4,
 "nbformat_minor": 5
}

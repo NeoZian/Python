{
 "cells": [
  {
   "cell_type": "code",
   "execution_count": 16,
   "id": "2045323a",
   "metadata": {},
   "outputs": [],
   "source": [
    "a = 90 #global\n",
    "\n"
   ]
  },
  {
   "cell_type": "code",
   "execution_count": 17,
   "id": "2b72857d",
   "metadata": {},
   "outputs": [],
   "source": [
    "def sen():\n",
    "    a = 110 #local\n",
    "    print(a)\n",
    "    \n",
    "def bro():\n",
    "    print(a)"
   ]
  },
  {
   "cell_type": "code",
   "execution_count": 20,
   "id": "98bcacca",
   "metadata": {},
   "outputs": [
    {
     "name": "stdout",
     "output_type": "stream",
     "text": [
      "110\n"
     ]
    }
   ],
   "source": [
    "sen()  #from local"
   ]
  },
  {
   "cell_type": "code",
   "execution_count": 21,
   "id": "07c5a8e0",
   "metadata": {},
   "outputs": [
    {
     "name": "stdout",
     "output_type": "stream",
     "text": [
      "90\n"
     ]
    }
   ],
   "source": [
    "bro()  #from global"
   ]
  },
  {
   "cell_type": "code",
   "execution_count": 23,
   "id": "cfd965a3",
   "metadata": {},
   "outputs": [
    {
     "data": {
      "text/plain": [
       "90"
      ]
     },
     "execution_count": 23,
     "metadata": {},
     "output_type": "execute_result"
    }
   ],
   "source": [
    "a  #global "
   ]
  },
  {
   "cell_type": "markdown",
   "id": "20a4260f",
   "metadata": {},
   "source": [
    "### LEGB : LOCAL ENCLOSED GLOBAL BUILT-IN"
   ]
  },
  {
   "cell_type": "markdown",
   "id": "dbbfcb83",
   "metadata": {},
   "source": [
    "# nonlocal"
   ]
  },
  {
   "cell_type": "code",
   "execution_count": 45,
   "id": "07b5651a",
   "metadata": {},
   "outputs": [
    {
     "name": "stdout",
     "output_type": "stream",
     "text": [
      "inner 100\n",
      "outer 100\n",
      "inner 100\n"
     ]
    }
   ],
   "source": [
    "\n",
    "def a():\n",
    "    x =20\n",
    "    \n",
    "    def b():\n",
    "        nonlocal x\n",
    "        x=100\n",
    "        \n",
    "        print(f\"inner {x}\")\n",
    "        \n",
    "    b()\n",
    "    print(f\"outer {x}\")   \n",
    "    b()     \n",
    "    \n",
    "a() "
   ]
  },
  {
   "cell_type": "code",
   "execution_count": null,
   "id": "c47b3361",
   "metadata": {},
   "outputs": [],
   "source": []
  },
  {
   "cell_type": "code",
   "execution_count": 33,
   "id": "99bfa337",
   "metadata": {},
   "outputs": [
    {
     "name": "stdout",
     "output_type": "stream",
     "text": [
      "Inner: 20\n",
      "Outer: 20\n"
     ]
    }
   ],
   "source": [
    "def outer_function():\n",
    "    x = 10\n",
    "\n",
    "    def inner_function():\n",
    "        nonlocal x\n",
    "        x = 20\n",
    "        print(\"Inner:\", x)\n",
    "\n",
    "    inner_function()\n",
    "    print(\"Outer:\", x)\n",
    "\n",
    "\n",
    "outer_function()\n"
   ]
  },
  {
   "cell_type": "markdown",
   "id": "b51d9f71",
   "metadata": {},
   "source": [
    "In Python, the nonlocal keyword is used to declare a variable in a nested function and indicate that it is not a local variable of that function. Instead, it refers to a variable defined in the nearest enclosing scope that is not global."
   ]
  },
  {
   "cell_type": "code",
   "execution_count": null,
   "id": "1d0a5164",
   "metadata": {},
   "outputs": [],
   "source": []
  }
 ],
 "metadata": {
  "kernelspec": {
   "display_name": "Python 3 (ipykernel)",
   "language": "python",
   "name": "python3"
  },
  "language_info": {
   "codemirror_mode": {
    "name": "ipython",
    "version": 3
   },
   "file_extension": ".py",
   "mimetype": "text/x-python",
   "name": "python",
   "nbconvert_exporter": "python",
   "pygments_lexer": "ipython3",
   "version": "3.10.9"
  }
 },
 "nbformat": 4,
 "nbformat_minor": 5
}

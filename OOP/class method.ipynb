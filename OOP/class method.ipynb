{
 "cells": [
  {
   "cell_type": "code",
   "execution_count": 1,
   "id": "f4bbe577",
   "metadata": {},
   "outputs": [],
   "source": [
    "class Human:\n",
    "    \n",
    "    population = 0\n",
    "    \n",
    "    def __init__(self, name, age):\n",
    "        self.name = name\n",
    "        self.age = age\n",
    "        \n",
    "        Human.population +=1\n",
    "      \n",
    "    @staticmethod  \n",
    "    def fun():\n",
    "        print(Human.population)\n",
    "        \n",
    "    @classmethod       #doesnt pass the obj but the class(here Human class) itself!\n",
    "    def deminisher(cls):\n",
    "        cls.population = 0"
   ]
  },
  {
   "cell_type": "markdown",
   "id": "e9c3a4cd",
   "metadata": {},
   "source": [
    "class methods in Python are methods that operate on the class itself rather than instances of the class. They are defined using the @classmethod decorator and receive the class as the first argument (cls). \n",
    "# They are useful for defining utility methods, alternative constructors, or performing operations at the class level."
   ]
  },
  {
   "cell_type": "code",
   "execution_count": 11,
   "id": "7c30370d",
   "metadata": {},
   "outputs": [],
   "source": [
    "man = Human(\"jj\",33)\n",
    "woman = Human(\"riya\",44)"
   ]
  },
  {
   "cell_type": "code",
   "execution_count": 12,
   "id": "a3be265d",
   "metadata": {},
   "outputs": [
    {
     "name": "stdout",
     "output_type": "stream",
     "text": [
      "2\n"
     ]
    }
   ],
   "source": [
    "man.fun()"
   ]
  },
  {
   "cell_type": "code",
   "execution_count": 13,
   "id": "5c600e21",
   "metadata": {},
   "outputs": [],
   "source": [
    "man.deminisher()   #since classmethod so the whole class will be passed here"
   ]
  },
  {
   "cell_type": "code",
   "execution_count": 14,
   "id": "66db85fb",
   "metadata": {},
   "outputs": [
    {
     "name": "stdout",
     "output_type": "stream",
     "text": [
      "0\n"
     ]
    }
   ],
   "source": [
    "man.fun()"
   ]
  },
  {
   "cell_type": "code",
   "execution_count": 15,
   "id": "d9adaaa9",
   "metadata": {},
   "outputs": [
    {
     "data": {
      "text/plain": [
       "0"
      ]
     },
     "execution_count": 15,
     "metadata": {},
     "output_type": "execute_result"
    }
   ],
   "source": [
    "Human.population"
   ]
  },
  {
   "cell_type": "markdown",
   "id": "a00b0743",
   "metadata": {},
   "source": [
    "# use as alternative constructors,"
   ]
  },
  {
   "cell_type": "code",
   "execution_count": 25,
   "id": "f8a7be0a",
   "metadata": {},
   "outputs": [],
   "source": [
    "class Human:\n",
    "    \n",
    "    population = 0\n",
    "    \n",
    "    def __init__(self, name, age):\n",
    "        self.name = name\n",
    "        self.age = age\n",
    "        \n",
    "        Human.population +=1\n",
    "      \n",
    "    @staticmethod  \n",
    "    def fun():\n",
    "        print(Human.population)\n",
    "        \n",
    "    @classmethod       #doesnt pass the obj but the class(here Human class) itself!\n",
    "    def deminisher(cls):\n",
    "        cls.population = 0\n",
    "        \n",
    "        \n",
    "    @classmethod           #alternative constructors\n",
    "    def from_string(cls, string, age):\n",
    "        return cls(string, age)"
   ]
  },
  {
   "cell_type": "code",
   "execution_count": 26,
   "id": "16d2054a",
   "metadata": {},
   "outputs": [],
   "source": [
    "man = Human(\"sal\",33)"
   ]
  },
  {
   "cell_type": "code",
   "execution_count": 27,
   "id": "b84c3135",
   "metadata": {},
   "outputs": [
    {
     "data": {
      "text/plain": [
       "1"
      ]
     },
     "execution_count": 27,
     "metadata": {},
     "output_type": "execute_result"
    }
   ],
   "source": [
    "man.population"
   ]
  },
  {
   "cell_type": "code",
   "execution_count": 28,
   "id": "76ebfa81",
   "metadata": {},
   "outputs": [],
   "source": [
    "don = Human.from_string(\"jee\",22)"
   ]
  },
  {
   "cell_type": "code",
   "execution_count": 29,
   "id": "45a0589b",
   "metadata": {},
   "outputs": [
    {
     "data": {
      "text/plain": [
       "2"
      ]
     },
     "execution_count": 29,
     "metadata": {},
     "output_type": "execute_result"
    }
   ],
   "source": [
    "don.population"
   ]
  },
  {
   "cell_type": "code",
   "execution_count": 31,
   "id": "aff3fa82",
   "metadata": {},
   "outputs": [
    {
     "data": {
      "text/plain": [
       "'jee'"
      ]
     },
     "execution_count": 31,
     "metadata": {},
     "output_type": "execute_result"
    }
   ],
   "source": [
    "don.name"
   ]
  },
  {
   "cell_type": "code",
   "execution_count": 32,
   "id": "1880e232",
   "metadata": {},
   "outputs": [
    {
     "data": {
      "text/plain": [
       "22"
      ]
     },
     "execution_count": 32,
     "metadata": {},
     "output_type": "execute_result"
    }
   ],
   "source": [
    "don.age"
   ]
  },
  {
   "cell_type": "code",
   "execution_count": null,
   "id": "c9faaf2e",
   "metadata": {},
   "outputs": [],
   "source": []
  }
 ],
 "metadata": {
  "kernelspec": {
   "display_name": "Python 3 (ipykernel)",
   "language": "python",
   "name": "python3"
  },
  "language_info": {
   "codemirror_mode": {
    "name": "ipython",
    "version": 3
   },
   "file_extension": ".py",
   "mimetype": "text/x-python",
   "name": "python",
   "nbconvert_exporter": "python",
   "pygments_lexer": "ipython3",
   "version": "3.10.9"
  }
 },
 "nbformat": 4,
 "nbformat_minor": 5
}

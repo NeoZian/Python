{
 "cells": [
  {
   "cell_type": "markdown",
   "id": "dc40688c",
   "metadata": {},
   "source": [
    "# there is no overloading in python only overriding"
   ]
  },
  {
   "cell_type": "code",
   "execution_count": 6,
   "id": "d43cc0a3",
   "metadata": {},
   "outputs": [],
   "source": [
    "def fun():\n",
    "    print(\"won't work\")"
   ]
  },
  {
   "cell_type": "code",
   "execution_count": 7,
   "id": "4a1cc6c0",
   "metadata": {},
   "outputs": [],
   "source": [
    "def fun(x):\n",
    "    print(x)"
   ]
  },
  {
   "cell_type": "code",
   "execution_count": 9,
   "id": "7554bf53",
   "metadata": {},
   "outputs": [
    {
     "ename": "TypeError",
     "evalue": "fun() missing 1 required positional argument: 'x'",
     "output_type": "error",
     "traceback": [
      "\u001b[0;31m---------------------------------------------------------------------------\u001b[0m",
      "\u001b[0;31mTypeError\u001b[0m                                 Traceback (most recent call last)",
      "Cell \u001b[0;32mIn[9], line 1\u001b[0m\n\u001b[0;32m----> 1\u001b[0m \u001b[43mfun\u001b[49m\u001b[43m(\u001b[49m\u001b[43m)\u001b[49m\n",
      "\u001b[0;31mTypeError\u001b[0m: fun() missing 1 required positional argument: 'x'"
     ]
    }
   ],
   "source": [
    "fun()  #not working since the previour object gets deleted when new fun() is created, "
   ]
  },
  {
   "cell_type": "code",
   "execution_count": 11,
   "id": "0c377686",
   "metadata": {},
   "outputs": [
    {
     "name": "stdout",
     "output_type": "stream",
     "text": [
      "6\n"
     ]
    }
   ],
   "source": [
    "fun(6)  #this works "
   ]
  },
  {
   "cell_type": "markdown",
   "id": "7551ee5f",
   "metadata": {},
   "source": [
    "# constructor itself is an example for overriding"
   ]
  },
  {
   "cell_type": "code",
   "execution_count": null,
   "id": "bd7c4e8b",
   "metadata": {},
   "outputs": [],
   "source": []
  }
 ],
 "metadata": {
  "kernelspec": {
   "display_name": "Python 3 (ipykernel)",
   "language": "python",
   "name": "python3"
  },
  "language_info": {
   "codemirror_mode": {
    "name": "ipython",
    "version": 3
   },
   "file_extension": ".py",
   "mimetype": "text/x-python",
   "name": "python",
   "nbconvert_exporter": "python",
   "pygments_lexer": "ipython3",
   "version": "3.10.9"
  }
 },
 "nbformat": 4,
 "nbformat_minor": 5
}

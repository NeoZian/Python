{
 "cells": [
  {
   "cell_type": "code",
   "execution_count": 1,
   "id": "c1aa17d8",
   "metadata": {},
   "outputs": [],
   "source": [
    "class Human:\n",
    "    \n",
    "    population = 0\n",
    "    \n",
    "    def __init__(self, name, age):\n",
    "        self.name = name\n",
    "        self.age = age\n",
    "        \n",
    "        Human.population +=1\n",
    "      \n",
    "    @staticmethod  #using this line, you wont need to put self inside! as static method doesnt depent on obj\n",
    "    #this @... is a decorator, used to modify the behaviour of a function!\n",
    "    def fun():\n",
    "        print(Human.population)\n",
    "        "
   ]
  },
  {
   "cell_type": "code",
   "execution_count": 2,
   "id": "52064e7d",
   "metadata": {},
   "outputs": [],
   "source": [
    "man = Human(\"jewel\",43)"
   ]
  },
  {
   "cell_type": "code",
   "execution_count": 3,
   "id": "9a44f08b",
   "metadata": {},
   "outputs": [
    {
     "name": "stdout",
     "output_type": "stream",
     "text": [
      "1\n"
     ]
    }
   ],
   "source": [
    "man.fun() #gets run as it is static method"
   ]
  },
  {
   "cell_type": "code",
   "execution_count": 4,
   "id": "8176ed3f",
   "metadata": {},
   "outputs": [],
   "source": [
    "woman = Human(\"riya\",33)"
   ]
  },
  {
   "cell_type": "code",
   "execution_count": 8,
   "id": "5caf31a8",
   "metadata": {},
   "outputs": [
    {
     "name": "stdout",
     "output_type": "stream",
     "text": [
      "2\n"
     ]
    }
   ],
   "source": [
    "woman.fun()"
   ]
  },
  {
   "cell_type": "code",
   "execution_count": 9,
   "id": "5ade8b3a",
   "metadata": {},
   "outputs": [
    {
     "data": {
      "text/plain": [
       "2"
      ]
     },
     "execution_count": 9,
     "metadata": {},
     "output_type": "execute_result"
    }
   ],
   "source": [
    "Human.population"
   ]
  },
  {
   "cell_type": "code",
   "execution_count": 10,
   "id": "1f2231cf",
   "metadata": {},
   "outputs": [
    {
     "name": "stdout",
     "output_type": "stream",
     "text": [
      "2\n"
     ]
    }
   ],
   "source": [
    "Human.fun()"
   ]
  },
  {
   "cell_type": "code",
   "execution_count": null,
   "id": "d155e9e1",
   "metadata": {},
   "outputs": [],
   "source": []
  }
 ],
 "metadata": {
  "kernelspec": {
   "display_name": "Python 3 (ipykernel)",
   "language": "python",
   "name": "python3"
  },
  "language_info": {
   "codemirror_mode": {
    "name": "ipython",
    "version": 3
   },
   "file_extension": ".py",
   "mimetype": "text/x-python",
   "name": "python",
   "nbconvert_exporter": "python",
   "pygments_lexer": "ipython3",
   "version": "3.10.9"
  }
 },
 "nbformat": 4,
 "nbformat_minor": 5
}

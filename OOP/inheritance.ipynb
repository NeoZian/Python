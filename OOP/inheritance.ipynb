{
 "cells": [
  {
   "cell_type": "code",
   "execution_count": 10,
   "id": "332c959c",
   "metadata": {},
   "outputs": [],
   "source": [
    "class Parent:\n",
    "    f =80\n",
    "    def __init__(self,value):\n",
    "        self.value = value"
   ]
  },
  {
   "cell_type": "code",
   "execution_count": 11,
   "id": "f764ed7c",
   "metadata": {},
   "outputs": [],
   "source": [
    "class Child(Parent):\n",
    "    def __init__(self,value):\n",
    "        super().__init__(value)    #super() is used to call the contructor of parent class,and you must do it in the constructor of the child class"
   ]
  },
  {
   "cell_type": "code",
   "execution_count": 12,
   "id": "8d08dae8",
   "metadata": {},
   "outputs": [],
   "source": [
    "p = Parent(55)"
   ]
  },
  {
   "cell_type": "code",
   "execution_count": 13,
   "id": "d2a724ee",
   "metadata": {},
   "outputs": [
    {
     "data": {
      "text/plain": [
       "(80, 55)"
      ]
     },
     "execution_count": 13,
     "metadata": {},
     "output_type": "execute_result"
    }
   ],
   "source": [
    "p.f,p.value"
   ]
  },
  {
   "cell_type": "code",
   "execution_count": 14,
   "id": "5d12235e",
   "metadata": {},
   "outputs": [],
   "source": [
    "obj = Child(33)"
   ]
  },
  {
   "cell_type": "code",
   "execution_count": 17,
   "id": "23e5c4ef",
   "metadata": {},
   "outputs": [
    {
     "data": {
      "text/plain": [
       "(33, 80)"
      ]
     },
     "execution_count": 17,
     "metadata": {},
     "output_type": "execute_result"
    }
   ],
   "source": [
    "obj.value, obj.f"
   ]
  },
  {
   "cell_type": "markdown",
   "id": "4af5b659",
   "metadata": {},
   "source": [
    "## hiding variables like private in python\n",
    "### becaue __a becomes _a__value in python"
   ]
  },
  {
   "cell_type": "code",
   "execution_count": 62,
   "id": "4daaba91",
   "metadata": {},
   "outputs": [],
   "source": [
    "class A:\n",
    "    f = 66\n",
    "    __p = 888    # using double underscore we can make a variable as private in python!\n",
    "    def __init__(self,num,tester):\n",
    "        self.num = num\n",
    "        self.tester = tester"
   ]
  },
  {
   "cell_type": "code",
   "execution_count": 63,
   "id": "9a638d29",
   "metadata": {},
   "outputs": [],
   "source": [
    "class B(A):\n",
    "    d = 90\n",
    "    def __init__(self,name,tester):\n",
    "        super().__init__(name,tester)\n",
    "        self.name = name"
   ]
  },
  {
   "cell_type": "code",
   "execution_count": 64,
   "id": "fe72575f",
   "metadata": {},
   "outputs": [],
   "source": [
    "obj_b = B(\"jewel\",3333)"
   ]
  },
  {
   "cell_type": "code",
   "execution_count": 65,
   "id": "b9358013",
   "metadata": {},
   "outputs": [
    {
     "data": {
      "text/plain": [
       "(66, 90)"
      ]
     },
     "execution_count": 65,
     "metadata": {},
     "output_type": "execute_result"
    }
   ],
   "source": [
    "obj_b.f,obj_b.d"
   ]
  },
  {
   "cell_type": "code",
   "execution_count": 57,
   "id": "d2227907",
   "metadata": {},
   "outputs": [
    {
     "data": {
      "text/plain": [
       "'jewel'"
      ]
     },
     "execution_count": 57,
     "metadata": {},
     "output_type": "execute_result"
    }
   ],
   "source": [
    "obj_b.name"
   ]
  },
  {
   "cell_type": "code",
   "execution_count": 47,
   "id": "fc882228",
   "metadata": {},
   "outputs": [
    {
     "ename": "AttributeError",
     "evalue": "'B' object has no attribute '__p'",
     "output_type": "error",
     "traceback": [
      "\u001b[0;31m---------------------------------------------------------------------------\u001b[0m",
      "\u001b[0;31mAttributeError\u001b[0m                            Traceback (most recent call last)",
      "Cell \u001b[0;32mIn[47], line 1\u001b[0m\n\u001b[0;32m----> 1\u001b[0m \u001b[43mobj_b\u001b[49m\u001b[38;5;241;43m.\u001b[39;49m\u001b[43m__p\u001b[49m\n",
      "\u001b[0;31mAttributeError\u001b[0m: 'B' object has no attribute '__p'"
     ]
    }
   ],
   "source": [
    "obj_b.__p     #gives error since __P works as a private in python"
   ]
  },
  {
   "cell_type": "code",
   "execution_count": 58,
   "id": "22f36d5b",
   "metadata": {},
   "outputs": [],
   "source": [
    "oba = A(111,\"tester\")"
   ]
  },
  {
   "cell_type": "code",
   "execution_count": 59,
   "id": "e9be7849",
   "metadata": {},
   "outputs": [
    {
     "data": {
      "text/plain": [
       "(111, 'tester')"
      ]
     },
     "execution_count": 59,
     "metadata": {},
     "output_type": "execute_result"
    }
   ],
   "source": [
    "oba.num, oba.tester"
   ]
  },
  {
   "cell_type": "code",
   "execution_count": 61,
   "id": "a8893bb7",
   "metadata": {},
   "outputs": [
    {
     "data": {
      "text/plain": [
       "(3333, 'jewel')"
      ]
     },
     "execution_count": 61,
     "metadata": {},
     "output_type": "execute_result"
    }
   ],
   "source": [
    "obj_b.tester, obj_b.name"
   ]
  },
  {
   "cell_type": "code",
   "execution_count": null,
   "id": "e1e8df78",
   "metadata": {},
   "outputs": [],
   "source": []
  }
 ],
 "metadata": {
  "kernelspec": {
   "display_name": "Python 3 (ipykernel)",
   "language": "python",
   "name": "python3"
  },
  "language_info": {
   "codemirror_mode": {
    "name": "ipython",
    "version": 3
   },
   "file_extension": ".py",
   "mimetype": "text/x-python",
   "name": "python",
   "nbconvert_exporter": "python",
   "pygments_lexer": "ipython3",
   "version": "3.10.9"
  }
 },
 "nbformat": 4,
 "nbformat_minor": 5
}

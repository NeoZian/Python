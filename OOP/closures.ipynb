{
 "cells": [
  {
   "cell_type": "code",
   "execution_count": 11,
   "id": "89456796",
   "metadata": {},
   "outputs": [],
   "source": [
    "def outer_function(x):\n",
    "    def inner_function():\n",
    "        print(x)  # Accesses 'x' from the enclosing scope\n",
    "\n",
    "    return inner_function"
   ]
  },
  {
   "cell_type": "code",
   "execution_count": 12,
   "id": "38471da8",
   "metadata": {},
   "outputs": [],
   "source": [
    "\n",
    "closure = outer_function(10)  # 'closure' now references the inner_function\n"
   ]
  },
  {
   "cell_type": "code",
   "execution_count": 13,
   "id": "2298028e",
   "metadata": {},
   "outputs": [
    {
     "name": "stdout",
     "output_type": "stream",
     "text": [
      "10\n"
     ]
    }
   ],
   "source": [
    "closure()  # Invoking 'closure' prints '10'"
   ]
  },
  {
   "cell_type": "markdown",
   "id": "d63922d3",
   "metadata": {},
   "source": [
    "after closure () is used since the return of inner_function was not given as (), or you can do this "
   ]
  },
  {
   "cell_type": "code",
   "execution_count": 15,
   "id": "cdefc87e",
   "metadata": {},
   "outputs": [],
   "source": [
    "def outer_function(x):\n",
    "    def inner_function():\n",
    "        print(x)  # Accesses 'x' from the enclosing scope\n",
    "\n",
    "    return inner_function()"
   ]
  },
  {
   "cell_type": "code",
   "execution_count": 18,
   "id": "b511a4d5",
   "metadata": {},
   "outputs": [
    {
     "name": "stdout",
     "output_type": "stream",
     "text": [
      "33\n"
     ]
    }
   ],
   "source": [
    "fun = outer_function(33)  #directly prints 33"
   ]
  },
  {
   "cell_type": "code",
   "execution_count": 23,
   "id": "f640a713",
   "metadata": {},
   "outputs": [
    {
     "name": "stdout",
     "output_type": "stream",
     "text": [
      "15\n"
     ]
    }
   ],
   "source": [
    "def multi(x):\n",
    "    def doer(n):\n",
    "        return x * n\n",
    "    return doer\n",
    "\n",
    "val = multi(5)  #in val the closure is assigned \n",
    "result = val(3)\n",
    "print(result)  # Output: 15\n"
   ]
  },
  {
   "cell_type": "markdown",
   "id": "b2f40f08",
   "metadata": {},
   "source": [
    "In this example, val represents the closure returned by multi(5). We then call val(3), passing 3 as the value for n. The closure uses the value of x (which is 5) and multiplies it with n (which is 3), resulting in the output 15."
   ]
  },
  {
   "cell_type": "markdown",
   "id": "c958f093",
   "metadata": {},
   "source": [
    "In this example, val holds the closure function doer returned by multi(5). When val is called with the argument 3 (val(3)), it invokes the closure function doer, which uses the enclosed x value of 5 and multiplies it by n (which is 3). The result is 15, which is then printed.\n"
   ]
  },
  {
   "cell_type": "code",
   "execution_count": null,
   "id": "dc2ff0cd",
   "metadata": {},
   "outputs": [],
   "source": []
  }
 ],
 "metadata": {
  "kernelspec": {
   "display_name": "Python 3 (ipykernel)",
   "language": "python",
   "name": "python3"
  },
  "language_info": {
   "codemirror_mode": {
    "name": "ipython",
    "version": 3
   },
   "file_extension": ".py",
   "mimetype": "text/x-python",
   "name": "python",
   "nbconvert_exporter": "python",
   "pygments_lexer": "ipython3",
   "version": "3.10.9"
  }
 },
 "nbformat": 4,
 "nbformat_minor": 5
}

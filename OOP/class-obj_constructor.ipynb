{
 "cells": [
  {
   "cell_type": "code",
   "execution_count": 1,
   "id": "588eb838",
   "metadata": {},
   "outputs": [],
   "source": [
    "#class"
   ]
  },
  {
   "cell_type": "code",
   "execution_count": 3,
   "id": "74cfbcb0",
   "metadata": {},
   "outputs": [],
   "source": [
    "class Human:\n",
    "    age = 0\n",
    "    name = \"abcd\""
   ]
  },
  {
   "cell_type": "code",
   "execution_count": 6,
   "id": "f98fb2a1",
   "metadata": {},
   "outputs": [],
   "source": [
    "obj  = Human()"
   ]
  },
  {
   "cell_type": "code",
   "execution_count": 7,
   "id": "2f75b978",
   "metadata": {},
   "outputs": [
    {
     "data": {
      "text/plain": [
       "0"
      ]
     },
     "execution_count": 7,
     "metadata": {},
     "output_type": "execute_result"
    }
   ],
   "source": [
    "obj.age"
   ]
  },
  {
   "cell_type": "code",
   "execution_count": 8,
   "id": "90d0473e",
   "metadata": {},
   "outputs": [
    {
     "data": {
      "text/plain": [
       "'abcd'"
      ]
     },
     "execution_count": 8,
     "metadata": {},
     "output_type": "execute_result"
    }
   ],
   "source": [
    "obj.name"
   ]
  },
  {
   "cell_type": "code",
   "execution_count": 9,
   "id": "04eaf57a",
   "metadata": {},
   "outputs": [],
   "source": [
    "obj2 = Human()"
   ]
  },
  {
   "cell_type": "code",
   "execution_count": 10,
   "id": "17e826b2",
   "metadata": {},
   "outputs": [
    {
     "data": {
      "text/plain": [
       "(0, 0)"
      ]
     },
     "execution_count": 10,
     "metadata": {},
     "output_type": "execute_result"
    }
   ],
   "source": [
    "obj.age, obj2.age"
   ]
  },
  {
   "cell_type": "code",
   "execution_count": 19,
   "id": "03203a02",
   "metadata": {},
   "outputs": [],
   "source": [
    " obj.name = \"auslim\""
   ]
  },
  {
   "cell_type": "code",
   "execution_count": 20,
   "id": "fe567e35",
   "metadata": {},
   "outputs": [],
   "source": [
    "obj2.name = \"auslim2\""
   ]
  },
  {
   "cell_type": "code",
   "execution_count": 21,
   "id": "1a91fbe5",
   "metadata": {},
   "outputs": [],
   "source": [
    "obj.age = 100"
   ]
  },
  {
   "cell_type": "code",
   "execution_count": 22,
   "id": "659ee19a",
   "metadata": {},
   "outputs": [
    {
     "data": {
      "text/plain": [
       "'auslim2'"
      ]
     },
     "execution_count": 22,
     "metadata": {},
     "output_type": "execute_result"
    }
   ],
   "source": [
    "obj2.name"
   ]
  },
  {
   "cell_type": "code",
   "execution_count": 25,
   "id": "722bdbd1",
   "metadata": {},
   "outputs": [
    {
     "data": {
      "text/plain": [
       "0"
      ]
     },
     "execution_count": 25,
     "metadata": {},
     "output_type": "execute_result"
    }
   ],
   "source": [
    "Human.age  #doest change the parent class variable's values"
   ]
  },
  {
   "cell_type": "code",
   "execution_count": 1,
   "id": "7dc9a674",
   "metadata": {},
   "outputs": [],
   "source": [
    "class Man:\n",
    "    def _init_():\n",
    "        pass   #by dafault this constrtuctor is created when no constructor is created manually in python!"
   ]
  },
  {
   "cell_type": "code",
   "execution_count": 2,
   "id": "77ed61b4",
   "metadata": {},
   "outputs": [],
   "source": [
    "class Human:\n",
    "    def msg():\n",
    "        print(\"msg is getting printed\")"
   ]
  },
  {
   "cell_type": "code",
   "execution_count": 3,
   "id": "99982e54",
   "metadata": {},
   "outputs": [],
   "source": [
    "obj = Human()"
   ]
  },
  {
   "cell_type": "code",
   "execution_count": 4,
   "id": "ee2e528c",
   "metadata": {},
   "outputs": [
    {
     "ename": "TypeError",
     "evalue": "Human.msg() takes 0 positional arguments but 1 was given",
     "output_type": "error",
     "traceback": [
      "\u001b[0;31m---------------------------------------------------------------------------\u001b[0m",
      "\u001b[0;31mTypeError\u001b[0m                                 Traceback (most recent call last)",
      "Cell \u001b[0;32mIn[4], line 1\u001b[0m\n\u001b[0;32m----> 1\u001b[0m \u001b[43mobj\u001b[49m\u001b[38;5;241;43m.\u001b[39;49m\u001b[43mmsg\u001b[49m\u001b[43m(\u001b[49m\u001b[43m)\u001b[49m\n",
      "\u001b[0;31mTypeError\u001b[0m: Human.msg() takes 0 positional arguments but 1 was given"
     ]
    }
   ],
   "source": [
    "obj.msg()"
   ]
  },
  {
   "cell_type": "markdown",
   "id": "1e7ee664",
   "metadata": {},
   "source": [
    "so, here you can see the error is bcz after the creation of object when the function was called, you are sending the object itself too, that's why you have to use a parameter in the function that is conventionally used as 'self'"
   ]
  },
  {
   "cell_type": "code",
   "execution_count": 5,
   "id": "1d21894c",
   "metadata": {},
   "outputs": [],
   "source": [
    "class Human:\n",
    "    def msg(something):\n",
    "        print(something)\n",
    "        print(\"msg is getting printed\")"
   ]
  },
  {
   "cell_type": "code",
   "execution_count": 6,
   "id": "f494e5c6",
   "metadata": {},
   "outputs": [],
   "source": [
    "obj= Human()"
   ]
  },
  {
   "cell_type": "code",
   "execution_count": 7,
   "id": "a2b112fc",
   "metadata": {},
   "outputs": [
    {
     "name": "stdout",
     "output_type": "stream",
     "text": [
      "<__main__.Human object at 0x7fb1c8405b70>\n",
      "msg is getting printed\n"
     ]
    }
   ],
   "source": [
    "obj.msg()"
   ]
  },
  {
   "cell_type": "code",
   "execution_count": 8,
   "id": "f035d641",
   "metadata": {},
   "outputs": [
    {
     "name": "stdout",
     "output_type": "stream",
     "text": [
      "<__main__.Human object at 0x7fb1c84061a0>\n",
      "msg is getting printed\n"
     ]
    }
   ],
   "source": [
    "class Human:\n",
    "    def msg(self):\n",
    "        print(self)\n",
    "        print(\"msg is getting printed\")\n",
    "        \n",
    "obj= Human()\n",
    "obj.msg()"
   ]
  },
  {
   "cell_type": "code",
   "execution_count": 15,
   "id": "d33723a5",
   "metadata": {},
   "outputs": [],
   "source": [
    "class Mom:\n",
    "    age = 10\n",
    "    def msg(self):      #passing the object itself here!\n",
    "        print(self.age)"
   ]
  },
  {
   "cell_type": "code",
   "execution_count": 16,
   "id": "09605006",
   "metadata": {},
   "outputs": [],
   "source": [
    "sal = Mom()"
   ]
  },
  {
   "cell_type": "code",
   "execution_count": 17,
   "id": "f6b2a3c4",
   "metadata": {},
   "outputs": [],
   "source": [
    "sal.age = 45"
   ]
  },
  {
   "cell_type": "code",
   "execution_count": 18,
   "id": "7f289fbd",
   "metadata": {},
   "outputs": [
    {
     "name": "stdout",
     "output_type": "stream",
     "text": [
      "45\n"
     ]
    }
   ],
   "source": [
    "sal.msg()"
   ]
  },
  {
   "cell_type": "code",
   "execution_count": 19,
   "id": "2c6a3e15",
   "metadata": {},
   "outputs": [
    {
     "name": "stdout",
     "output_type": "stream",
     "text": [
      "10\n"
     ]
    }
   ],
   "source": [
    "jewel = Mom()\n",
    "jewel.msg()"
   ]
  },
  {
   "cell_type": "code",
   "execution_count": 20,
   "id": "d484bebc",
   "metadata": {},
   "outputs": [
    {
     "name": "stdout",
     "output_type": "stream",
     "text": [
      "45\n"
     ]
    }
   ],
   "source": [
    "sal.msg()"
   ]
  },
  {
   "cell_type": "markdown",
   "id": "0a3df436",
   "metadata": {},
   "source": [
    "# constructor"
   ]
  },
  {
   "cell_type": "code",
   "execution_count": 21,
   "id": "bf6ce303",
   "metadata": {},
   "outputs": [],
   "source": [
    "class Human():\n",
    "    def __init__(self, name, age):\n",
    "        self.name = name\n",
    "        self.age = age"
   ]
  },
  {
   "cell_type": "code",
   "execution_count": 26,
   "id": "bdb853fb",
   "metadata": {},
   "outputs": [],
   "source": [
    "sal = Human(\"new name\", 28)  #self is the default obj, that gets passed by default"
   ]
  },
  {
   "cell_type": "code",
   "execution_count": 27,
   "id": "2bfc6ee0",
   "metadata": {},
   "outputs": [
    {
     "name": "stdout",
     "output_type": "stream",
     "text": [
      "new name 28\n"
     ]
    }
   ],
   "source": [
    "print(sal.name, sal.age)"
   ]
  },
  {
   "cell_type": "code",
   "execution_count": null,
   "id": "3a5848c6",
   "metadata": {},
   "outputs": [],
   "source": []
  }
 ],
 "metadata": {
  "kernelspec": {
   "display_name": "Python 3 (ipykernel)",
   "language": "python",
   "name": "python3"
  },
  "language_info": {
   "codemirror_mode": {
    "name": "ipython",
    "version": 3
   },
   "file_extension": ".py",
   "mimetype": "text/x-python",
   "name": "python",
   "nbconvert_exporter": "python",
   "pygments_lexer": "ipython3",
   "version": "3.10.9"
  }
 },
 "nbformat": 4,
 "nbformat_minor": 5
}

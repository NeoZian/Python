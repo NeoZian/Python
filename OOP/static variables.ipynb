{
 "cells": [
  {
   "cell_type": "code",
   "execution_count": 1,
   "id": "f5c9f14d",
   "metadata": {},
   "outputs": [],
   "source": [
    "class Human():\n",
    "    #static variables: are common for all objects of that class\n",
    "    #also known as class variables\n",
    "    \n",
    "    population = 0  #static variable: doesnt depent on object\n",
    "    \n",
    "    def __init__(self, name, age):\n",
    "        self.name = name\n",
    "        self.age = age\n",
    "        #when new human comes, population get increased\n",
    "        Human.population +=1"
   ]
  },
  {
   "cell_type": "code",
   "execution_count": 2,
   "id": "4d9110cc",
   "metadata": {},
   "outputs": [],
   "source": [
    "man = Human(\"sayif\",22)"
   ]
  },
  {
   "cell_type": "code",
   "execution_count": 3,
   "id": "01cba5e5",
   "metadata": {},
   "outputs": [],
   "source": [
    "boy = Human(\"kalam\",34)"
   ]
  },
  {
   "cell_type": "code",
   "execution_count": 4,
   "id": "c6de9911",
   "metadata": {},
   "outputs": [
    {
     "data": {
      "text/plain": [
       "2"
      ]
     },
     "execution_count": 4,
     "metadata": {},
     "output_type": "execute_result"
    }
   ],
   "source": [
    "man.population"
   ]
  },
  {
   "cell_type": "code",
   "execution_count": 5,
   "id": "ba02ecf5",
   "metadata": {},
   "outputs": [
    {
     "data": {
      "text/plain": [
       "2"
      ]
     },
     "execution_count": 5,
     "metadata": {},
     "output_type": "execute_result"
    }
   ],
   "source": [
    "boy.population"
   ]
  },
  {
   "cell_type": "code",
   "execution_count": 6,
   "id": "820f75de",
   "metadata": {},
   "outputs": [
    {
     "data": {
      "text/plain": [
       "2"
      ]
     },
     "execution_count": 6,
     "metadata": {},
     "output_type": "execute_result"
    }
   ],
   "source": [
    "Human.population"
   ]
  },
  {
   "cell_type": "code",
   "execution_count": null,
   "id": "0e38b0a3",
   "metadata": {},
   "outputs": [],
   "source": []
  }
 ],
 "metadata": {
  "kernelspec": {
   "display_name": "Python 3 (ipykernel)",
   "language": "python",
   "name": "python3"
  },
  "language_info": {
   "codemirror_mode": {
    "name": "ipython",
    "version": 3
   },
   "file_extension": ".py",
   "mimetype": "text/x-python",
   "name": "python",
   "nbconvert_exporter": "python",
   "pygments_lexer": "ipython3",
   "version": "3.10.9"
  }
 },
 "nbformat": 4,
 "nbformat_minor": 5
}

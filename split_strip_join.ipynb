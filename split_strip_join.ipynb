{
 "cells": [
  {
   "cell_type": "code",
   "execution_count": 1,
   "id": "b3fb647e",
   "metadata": {},
   "outputs": [],
   "source": [
    "#split. strip, join"
   ]
  },
  {
   "cell_type": "code",
   "execution_count": 2,
   "id": "a5c26487",
   "metadata": {},
   "outputs": [],
   "source": [
    "a = \"    2  3    4 5  6\""
   ]
  },
  {
   "cell_type": "code",
   "execution_count": 6,
   "id": "e2256426",
   "metadata": {},
   "outputs": [],
   "source": [
    "a = a.strip?  #removes white spaces\n"
   ]
  },
  {
   "cell_type": "code",
   "execution_count": 7,
   "id": "3a004d38",
   "metadata": {},
   "outputs": [],
   "source": [
    "a = a.strip()"
   ]
  },
  {
   "cell_type": "code",
   "execution_count": 8,
   "id": "907da5cf",
   "metadata": {},
   "outputs": [
    {
     "data": {
      "text/plain": [
       "'2  3    4 5  6'"
      ]
     },
     "execution_count": 8,
     "metadata": {},
     "output_type": "execute_result"
    }
   ],
   "source": [
    "a"
   ]
  },
  {
   "cell_type": "code",
   "execution_count": 9,
   "id": "d197948d",
   "metadata": {},
   "outputs": [],
   "source": [
    "a = a.split(\" \")"
   ]
  },
  {
   "cell_type": "code",
   "execution_count": 10,
   "id": "793bf826",
   "metadata": {},
   "outputs": [
    {
     "data": {
      "text/plain": [
       "['2', '', '3', '', '', '', '4', '5', '', '6']"
      ]
     },
     "execution_count": 10,
     "metadata": {},
     "output_type": "execute_result"
    }
   ],
   "source": [
    "a"
   ]
  },
  {
   "cell_type": "code",
   "execution_count": 11,
   "id": "46c264fe",
   "metadata": {},
   "outputs": [],
   "source": [
    "li = [x for x in a if x!='']"
   ]
  },
  {
   "cell_type": "code",
   "execution_count": 12,
   "id": "00a79b79",
   "metadata": {},
   "outputs": [
    {
     "data": {
      "text/plain": [
       "['2', '3', '4', '5', '6']"
      ]
     },
     "execution_count": 12,
     "metadata": {},
     "output_type": "execute_result"
    }
   ],
   "source": [
    "li"
   ]
  },
  {
   "cell_type": "code",
   "execution_count": 13,
   "id": "5158d805",
   "metadata": {},
   "outputs": [],
   "source": [
    "#making em all int"
   ]
  },
  {
   "cell_type": "code",
   "execution_count": 14,
   "id": "7e7b2ebe",
   "metadata": {},
   "outputs": [],
   "source": [
    "myl = list(map(int,li))"
   ]
  },
  {
   "cell_type": "code",
   "execution_count": 15,
   "id": "4878bf05",
   "metadata": {},
   "outputs": [
    {
     "data": {
      "text/plain": [
       "[2, 3, 4, 5, 6]"
      ]
     },
     "execution_count": 15,
     "metadata": {},
     "output_type": "execute_result"
    }
   ],
   "source": [
    "myl"
   ]
  },
  {
   "cell_type": "code",
   "execution_count": 16,
   "id": "d0f7bb9f",
   "metadata": {},
   "outputs": [
    {
     "data": {
      "text/plain": [
       "20"
      ]
     },
     "execution_count": 16,
     "metadata": {},
     "output_type": "execute_result"
    }
   ],
   "source": [
    "sum(myl)"
   ]
  },
  {
   "cell_type": "markdown",
   "id": "f22bc287",
   "metadata": {},
   "source": [
    "# join"
   ]
  },
  {
   "cell_type": "code",
   "execution_count": 22,
   "id": "d63eeac9",
   "metadata": {},
   "outputs": [],
   "source": [
    "s = \"a b c d\""
   ]
  },
  {
   "cell_type": "code",
   "execution_count": 23,
   "id": "a4565eef",
   "metadata": {},
   "outputs": [
    {
     "data": {
      "text/plain": [
       "'a b c d'"
      ]
     },
     "execution_count": 23,
     "metadata": {},
     "output_type": "execute_result"
    }
   ],
   "source": [
    "s"
   ]
  },
  {
   "cell_type": "code",
   "execution_count": 24,
   "id": "82ac12d9",
   "metadata": {},
   "outputs": [],
   "source": [
    "s = s.split(\" \")"
   ]
  },
  {
   "cell_type": "code",
   "execution_count": 25,
   "id": "b480de27",
   "metadata": {},
   "outputs": [
    {
     "data": {
      "text/plain": [
       "['a', 'b', 'c', 'd']"
      ]
     },
     "execution_count": 25,
     "metadata": {},
     "output_type": "execute_result"
    }
   ],
   "source": [
    "s"
   ]
  },
  {
   "cell_type": "code",
   "execution_count": 27,
   "id": "16d66474",
   "metadata": {},
   "outputs": [
    {
     "data": {
      "text/plain": [
       "'a--b--c--d'"
      ]
     },
     "execution_count": 27,
     "metadata": {},
     "output_type": "execute_result"
    }
   ],
   "source": [
    "\"--\".join(s)   # -- >>is what do you want to join the iterables/elements"
   ]
  },
  {
   "cell_type": "code",
   "execution_count": 28,
   "id": "dad367ee",
   "metadata": {},
   "outputs": [
    {
     "data": {
      "text/plain": [
       "'a//b//c//d'"
      ]
     },
     "execution_count": 28,
     "metadata": {},
     "output_type": "execute_result"
    }
   ],
   "source": [
    "\"//\".join(s) "
   ]
  },
  {
   "cell_type": "code",
   "execution_count": null,
   "id": "c7f017be",
   "metadata": {},
   "outputs": [],
   "source": []
  }
 ],
 "metadata": {
  "kernelspec": {
   "display_name": "Python 3 (ipykernel)",
   "language": "python",
   "name": "python3"
  },
  "language_info": {
   "codemirror_mode": {
    "name": "ipython",
    "version": 3
   },
   "file_extension": ".py",
   "mimetype": "text/x-python",
   "name": "python",
   "nbconvert_exporter": "python",
   "pygments_lexer": "ipython3",
   "version": "3.10.9"
  }
 },
 "nbformat": 4,
 "nbformat_minor": 5
}

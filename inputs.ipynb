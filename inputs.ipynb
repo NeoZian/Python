{
 "cells": [
  {
   "cell_type": "code",
   "execution_count": 1,
   "id": "8e614569",
   "metadata": {},
   "outputs": [],
   "source": [
    "#taking inputs"
   ]
  },
  {
   "cell_type": "markdown",
   "id": "2d5f0753",
   "metadata": {},
   "source": [
    "python takes input as string"
   ]
  },
  {
   "cell_type": "code",
   "execution_count": 4,
   "id": "42968d8b",
   "metadata": {},
   "outputs": [
    {
     "name": "stdout",
     "output_type": "stream",
     "text": [
      "355\n"
     ]
    }
   ],
   "source": [
    "a = input()"
   ]
  },
  {
   "cell_type": "code",
   "execution_count": 5,
   "id": "f12185e4",
   "metadata": {},
   "outputs": [
    {
     "data": {
      "text/plain": [
       "'355'"
      ]
     },
     "execution_count": 5,
     "metadata": {},
     "output_type": "execute_result"
    }
   ],
   "source": [
    "a"
   ]
  },
  {
   "cell_type": "code",
   "execution_count": 6,
   "id": "a0784519",
   "metadata": {},
   "outputs": [
    {
     "data": {
      "text/plain": [
       "str"
      ]
     },
     "execution_count": 6,
     "metadata": {},
     "output_type": "execute_result"
    }
   ],
   "source": [
    "type(a)"
   ]
  },
  {
   "cell_type": "code",
   "execution_count": 7,
   "id": "1d199d97",
   "metadata": {},
   "outputs": [
    {
     "name": "stdout",
     "output_type": "stream",
     "text": [
      "10\n"
     ]
    }
   ],
   "source": [
    "b = input()"
   ]
  },
  {
   "cell_type": "code",
   "execution_count": 8,
   "id": "1f8d6392",
   "metadata": {},
   "outputs": [],
   "source": [
    "c = a + b"
   ]
  },
  {
   "cell_type": "code",
   "execution_count": 10,
   "id": "c8a92113",
   "metadata": {},
   "outputs": [
    {
     "name": "stdout",
     "output_type": "stream",
     "text": [
      "35510\n"
     ]
    }
   ],
   "source": [
    "print(c)   #it concatinates, not added, so you have to use casting for addition 2 var"
   ]
  },
  {
   "cell_type": "code",
   "execution_count": 11,
   "id": "c6fac9db",
   "metadata": {},
   "outputs": [
    {
     "data": {
      "text/plain": [
       "str"
      ]
     },
     "execution_count": 11,
     "metadata": {},
     "output_type": "execute_result"
    }
   ],
   "source": [
    "type(c)"
   ]
  },
  {
   "cell_type": "code",
   "execution_count": 12,
   "id": "2c016092",
   "metadata": {},
   "outputs": [
    {
     "data": {
      "text/plain": [
       "55"
      ]
     },
     "execution_count": 12,
     "metadata": {},
     "output_type": "execute_result"
    }
   ],
   "source": [
    "#casting\n",
    "int(55)"
   ]
  },
  {
   "cell_type": "code",
   "execution_count": 13,
   "id": "31c7ff3e",
   "metadata": {},
   "outputs": [],
   "source": [
    "a = int(a)\n",
    "b = int(b)"
   ]
  },
  {
   "cell_type": "code",
   "execution_count": 14,
   "id": "736a5c63",
   "metadata": {},
   "outputs": [],
   "source": [
    "d = a+b"
   ]
  },
  {
   "cell_type": "code",
   "execution_count": 15,
   "id": "0790a44f",
   "metadata": {},
   "outputs": [
    {
     "name": "stdout",
     "output_type": "stream",
     "text": [
      "365\n"
     ]
    }
   ],
   "source": [
    "print(d)"
   ]
  },
  {
   "cell_type": "code",
   "execution_count": 16,
   "id": "8196c247",
   "metadata": {},
   "outputs": [
    {
     "data": {
      "text/plain": [
       "int"
      ]
     },
     "execution_count": 16,
     "metadata": {},
     "output_type": "execute_result"
    }
   ],
   "source": [
    "type(d)"
   ]
  },
  {
   "cell_type": "code",
   "execution_count": 18,
   "id": "59d5635a",
   "metadata": {},
   "outputs": [
    {
     "name": "stdout",
     "output_type": "stream",
     "text": [
      "55\n"
     ]
    }
   ],
   "source": [
    "#shortcut\n",
    "a = int(input())"
   ]
  },
  {
   "cell_type": "code",
   "execution_count": 19,
   "id": "049e29f6",
   "metadata": {},
   "outputs": [
    {
     "name": "stdout",
     "output_type": "stream",
     "text": [
      "50\n"
     ]
    }
   ],
   "source": [
    "b = int(input())"
   ]
  },
  {
   "cell_type": "code",
   "execution_count": 20,
   "id": "8902a67e",
   "metadata": {},
   "outputs": [],
   "source": [
    "cc = a+b"
   ]
  },
  {
   "cell_type": "code",
   "execution_count": 21,
   "id": "ecfaa742",
   "metadata": {},
   "outputs": [
    {
     "name": "stdout",
     "output_type": "stream",
     "text": [
      "105\n"
     ]
    }
   ],
   "source": [
    "print(cc)"
   ]
  },
  {
   "cell_type": "code",
   "execution_count": 22,
   "id": "98bea43b",
   "metadata": {},
   "outputs": [
    {
     "name": "stdout",
     "output_type": "stream",
     "text": [
      "105.0\n"
     ]
    }
   ],
   "source": [
    "print(float(cc))"
   ]
  },
  {
   "cell_type": "markdown",
   "id": "8ba141cf",
   "metadata": {},
   "source": [
    "# message with inputs"
   ]
  },
  {
   "cell_type": "code",
   "execution_count": 23,
   "id": "bd6449f9",
   "metadata": {},
   "outputs": [
    {
     "name": "stdout",
     "output_type": "stream",
     "text": [
      "enter 1st num: 33\n"
     ]
    }
   ],
   "source": [
    "num1 = int(input(\"enter 1st num: \"))"
   ]
  },
  {
   "cell_type": "code",
   "execution_count": 26,
   "id": "43b0d7aa",
   "metadata": {},
   "outputs": [
    {
     "name": "stdout",
     "output_type": "stream",
     "text": [
      "enter 2nd num: 33\n"
     ]
    }
   ],
   "source": [
    "num2 = int(input(\"enter 2nd num: \"))"
   ]
  },
  {
   "cell_type": "code",
   "execution_count": 27,
   "id": "7cc51c5e",
   "metadata": {},
   "outputs": [
    {
     "name": "stdout",
     "output_type": "stream",
     "text": [
      "1089\n"
     ]
    }
   ],
   "source": [
    "print(num1*num2)"
   ]
  },
  {
   "cell_type": "markdown",
   "id": "c8de08a1",
   "metadata": {},
   "source": [
    "# multiple inputs"
   ]
  },
  {
   "cell_type": "code",
   "execution_count": 1,
   "id": "5238c7fb",
   "metadata": {},
   "outputs": [
    {
     "name": "stdout",
     "output_type": "stream",
     "text": [
      "2 3 4 55 66\n"
     ]
    }
   ],
   "source": [
    "n = input()"
   ]
  },
  {
   "cell_type": "code",
   "execution_count": 2,
   "id": "0e4f16f4",
   "metadata": {},
   "outputs": [],
   "source": [
    "n = n.split(\" \")"
   ]
  },
  {
   "cell_type": "code",
   "execution_count": 3,
   "id": "b86c6be2",
   "metadata": {},
   "outputs": [
    {
     "data": {
      "text/plain": [
       "['2', '3', '4', '55', '66']"
      ]
     },
     "execution_count": 3,
     "metadata": {},
     "output_type": "execute_result"
    }
   ],
   "source": [
    "n"
   ]
  },
  {
   "cell_type": "code",
   "execution_count": 4,
   "id": "3571193d",
   "metadata": {},
   "outputs": [],
   "source": [
    "n = list(map(int,n))"
   ]
  },
  {
   "cell_type": "code",
   "execution_count": 5,
   "id": "0c386d40",
   "metadata": {},
   "outputs": [
    {
     "data": {
      "text/plain": [
       "[2, 3, 4, 55, 66]"
      ]
     },
     "execution_count": 5,
     "metadata": {},
     "output_type": "execute_result"
    }
   ],
   "source": [
    "n"
   ]
  },
  {
   "cell_type": "code",
   "execution_count": 6,
   "id": "547fd5ea",
   "metadata": {},
   "outputs": [],
   "source": [
    "n1,n2,n3,n4,n5 = n "
   ]
  },
  {
   "cell_type": "code",
   "execution_count": 7,
   "id": "f1be1590",
   "metadata": {},
   "outputs": [
    {
     "data": {
      "text/plain": [
       "2"
      ]
     },
     "execution_count": 7,
     "metadata": {},
     "output_type": "execute_result"
    }
   ],
   "source": [
    "n1"
   ]
  },
  {
   "cell_type": "code",
   "execution_count": 8,
   "id": "f0a979d8",
   "metadata": {},
   "outputs": [
    {
     "data": {
      "text/plain": [
       "3"
      ]
     },
     "execution_count": 8,
     "metadata": {},
     "output_type": "execute_result"
    }
   ],
   "source": [
    "n2"
   ]
  },
  {
   "cell_type": "code",
   "execution_count": 9,
   "id": "5580fc3c",
   "metadata": {},
   "outputs": [
    {
     "data": {
      "text/plain": [
       "4"
      ]
     },
     "execution_count": 9,
     "metadata": {},
     "output_type": "execute_result"
    }
   ],
   "source": [
    "n3"
   ]
  },
  {
   "cell_type": "code",
   "execution_count": 10,
   "id": "59ba07d9",
   "metadata": {},
   "outputs": [
    {
     "data": {
      "text/plain": [
       "55"
      ]
     },
     "execution_count": 10,
     "metadata": {},
     "output_type": "execute_result"
    }
   ],
   "source": [
    "n4"
   ]
  },
  {
   "cell_type": "code",
   "execution_count": 11,
   "id": "9c5dee67",
   "metadata": {},
   "outputs": [
    {
     "data": {
      "text/plain": [
       "66"
      ]
     },
     "execution_count": 11,
     "metadata": {},
     "output_type": "execute_result"
    }
   ],
   "source": [
    "n5"
   ]
  },
  {
   "cell_type": "code",
   "execution_count": null,
   "id": "ff91c0f2",
   "metadata": {},
   "outputs": [],
   "source": []
  }
 ],
 "metadata": {
  "kernelspec": {
   "display_name": "Python 3 (ipykernel)",
   "language": "python",
   "name": "python3"
  },
  "language_info": {
   "codemirror_mode": {
    "name": "ipython",
    "version": 3
   },
   "file_extension": ".py",
   "mimetype": "text/x-python",
   "name": "python",
   "nbconvert_exporter": "python",
   "pygments_lexer": "ipython3",
   "version": "3.10.9"
  }
 },
 "nbformat": 4,
 "nbformat_minor": 5
}

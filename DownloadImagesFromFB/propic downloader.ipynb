{
 "cells": [
  {
   "cell_type": "code",
   "execution_count": 5,
   "id": "7a32f9a3",
   "metadata": {},
   "outputs": [],
   "source": [
    "import os\n",
    "import requests"
   ]
  },
  {
   "cell_type": "code",
   "execution_count": 6,
   "id": "167f0d2a",
   "metadata": {},
   "outputs": [],
   "source": [
    "url = \"https://graph.facebook.com/{}/picture?type=large\" #{} is a placeholder"
   ]
  },
  {
   "cell_type": "code",
   "execution_count": 7,
   "id": "6f53981c",
   "metadata": {},
   "outputs": [],
   "source": [
    "if not \"fb_photos\" in os.listdir():\n",
    "    os.mkdir(\"fb_photos\")"
   ]
  },
  {
   "cell_type": "code",
   "execution_count": 9,
   "id": "10e8661c",
   "metadata": {},
   "outputs": [],
   "source": [
    "for i in range(4,100):\n",
    "    result = requests.get(url.format(i))\n",
    "    with open(\"fb_photos/{}_img.jpg\".format(i),\"wb\") as file:\n",
    "        file.write(result.content)"
   ]
  },
  {
   "cell_type": "code",
   "execution_count": null,
   "id": "e2070b8a",
   "metadata": {},
   "outputs": [],
   "source": []
  }
 ],
 "metadata": {
  "kernelspec": {
   "display_name": "Python 3 (ipykernel)",
   "language": "python",
   "name": "python3"
  },
  "language_info": {
   "codemirror_mode": {
    "name": "ipython",
    "version": 3
   },
   "file_extension": ".py",
   "mimetype": "text/x-python",
   "name": "python",
   "nbconvert_exporter": "python",
   "pygments_lexer": "ipython3",
   "version": "3.10.9"
  }
 },
 "nbformat": 4,
 "nbformat_minor": 5
}

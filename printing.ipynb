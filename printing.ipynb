{
 "cells": [
  {
   "cell_type": "code",
   "execution_count": 1,
   "id": "77f1b92f",
   "metadata": {},
   "outputs": [
    {
     "name": "stdout",
     "output_type": "stream",
     "text": [
      "thi is string\n"
     ]
    }
   ],
   "source": [
    "print(\"thi is string\")"
   ]
  },
  {
   "cell_type": "code",
   "execution_count": 2,
   "id": "8c4437a7",
   "metadata": {},
   "outputs": [
    {
     "name": "stdout",
     "output_type": "stream",
     "text": [
      "34\n"
     ]
    }
   ],
   "source": [
    "print(34)"
   ]
  },
  {
   "cell_type": "code",
   "execution_count": 4,
   "id": "bc7b2c2d",
   "metadata": {},
   "outputs": [
    {
     "name": "stdout",
     "output_type": "stream",
     "text": [
      "12 34\n"
     ]
    }
   ],
   "source": [
    "print(12,34)  #default separator is \" \""
   ]
  },
  {
   "cell_type": "code",
   "execution_count": 7,
   "id": "dc267932",
   "metadata": {},
   "outputs": [
    {
     "name": "stdout",
     "output_type": "stream",
     "text": [
      "22-33\n"
     ]
    }
   ],
   "source": [
    "print(22,33, sep=\"-\")"
   ]
  },
  {
   "cell_type": "code",
   "execution_count": 8,
   "id": "c737c984",
   "metadata": {},
   "outputs": [],
   "source": [
    "a=11\n",
    "b=22"
   ]
  },
  {
   "cell_type": "code",
   "execution_count": 9,
   "id": "92a1c931",
   "metadata": {},
   "outputs": [
    {
     "name": "stdout",
     "output_type": "stream",
     "text": [
      "numbers are: 11 and 22\n"
     ]
    }
   ],
   "source": [
    "print(\"numbers are:\",a,\"and\",b)"
   ]
  },
  {
   "cell_type": "code",
   "execution_count": 10,
   "id": "b5f95883",
   "metadata": {},
   "outputs": [
    {
     "name": "stdout",
     "output_type": "stream",
     "text": [
      "numbers are 11 and 22\n"
     ]
    }
   ],
   "source": [
    "print(\"numbers are {} and {}\".format(a,b))"
   ]
  },
  {
   "cell_type": "code",
   "execution_count": 11,
   "id": "929e5d46",
   "metadata": {},
   "outputs": [
    {
     "name": "stdout",
     "output_type": "stream",
     "text": [
      "numbers are 11 and 22\n"
     ]
    }
   ],
   "source": [
    "#best way\n",
    "print(f\"numbers are {a} and {b}\")"
   ]
  },
  {
   "cell_type": "code",
   "execution_count": null,
   "id": "4b475742",
   "metadata": {},
   "outputs": [],
   "source": []
  }
 ],
 "metadata": {
  "kernelspec": {
   "display_name": "Python 3 (ipykernel)",
   "language": "python",
   "name": "python3"
  },
  "language_info": {
   "codemirror_mode": {
    "name": "ipython",
    "version": 3
   },
   "file_extension": ".py",
   "mimetype": "text/x-python",
   "name": "python",
   "nbconvert_exporter": "python",
   "pygments_lexer": "ipython3",
   "version": "3.10.9"
  }
 },
 "nbformat": 4,
 "nbformat_minor": 5
}

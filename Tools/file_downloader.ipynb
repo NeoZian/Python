{
 "cells": [
  {
   "cell_type": "code",
   "execution_count": 1,
   "id": "e9e2486f",
   "metadata": {},
   "outputs": [],
   "source": [
    "url = 'https://www.africau.edu/images/default/sample.pdf'"
   ]
  },
  {
   "cell_type": "code",
   "execution_count": 21,
   "id": "18f4bf75",
   "metadata": {},
   "outputs": [],
   "source": [
    "import requests\n",
    "import math"
   ]
  },
  {
   "cell_type": "code",
   "execution_count": 3,
   "id": "595aed87",
   "metadata": {},
   "outputs": [],
   "source": [
    "r = requests.get(url)"
   ]
  },
  {
   "cell_type": "code",
   "execution_count": 4,
   "id": "9f8d2efb",
   "metadata": {},
   "outputs": [
    {
     "data": {
      "text/plain": [
       "<Response [200]>"
      ]
     },
     "execution_count": 4,
     "metadata": {},
     "output_type": "execute_result"
    }
   ],
   "source": [
    "r"
   ]
  },
  {
   "cell_type": "code",
   "execution_count": 5,
   "id": "3e50265c",
   "metadata": {},
   "outputs": [
    {
     "data": {
      "text/plain": [
       "b'%PDF-1.3\\r\\n%\\xe2\\xe3\\xcf\\xd3\\r\\n\\r\\n1 0 obj\\r\\n<<\\r\\n/Type /Catalog\\r\\n/Outlines 2 0 R\\r\\n/Pages 3 0 R\\r\\n>>\\r\\nendobj\\r\\n\\r\\n2 0 obj\\r\\n<<\\r\\n/Type /Outlines\\r\\n/Count 0\\r\\n>>\\r\\nendobj\\r\\n\\r\\n3 0 obj\\r\\n<<\\r\\n/Type /Pages\\r\\n/Count 2\\r\\n/Kids [ 4 0 R 6 0 R ] \\r\\n>>\\r\\nendobj\\r\\n\\r\\n4 0 obj\\r\\n<<\\r\\n/Type /Page\\r\\n/Parent 3 0 R\\r\\n/Resources <<\\r\\n/Font <<\\r\\n/F1 9 0 R \\r\\n>>\\r\\n/ProcSet 8 0 R\\r\\n>>\\r\\n/MediaBox [0 0 612.0000 792.0000]\\r\\n/Contents 5 0 R\\r\\n>>\\r\\nendobj\\r\\n\\r\\n5 0 obj\\r\\n<< /Length 1074 >>\\r\\nstream\\r\\n2 J\\r\\nBT\\r\\n0 0 0 rg\\r\\n/F1 0027 Tf\\r\\n57.3750 722.2800 Td\\r\\n( A Simple PDF File ) Tj\\r\\nET\\r\\nBT\\r\\n/F1 0010 Tf\\r\\n69.2500 688.6080 Td\\r\\n( This is a small demonstration .pdf file - ) Tj\\r\\nET\\r\\nBT\\r\\n/F1 0010 Tf\\r\\n69.2500 664.7040 Td\\r\\n( just for use in the Virtual Mechanics tutorials. More text. And more ) Tj\\r\\nET\\r\\nBT\\r\\n/F1 0010 Tf\\r\\n69.2500 652.7520 Td\\r\\n( text. And more text. And more text. And more text. ) Tj\\r\\nET\\r\\nBT\\r\\n/F1 0010 Tf\\r\\n69.2500 628.8480 Td\\r\\n( And more text. And more text. And more text. And more text. And more ) Tj\\r\\nET\\r\\nBT\\r\\n/F1 0010 Tf\\r\\n69.2500 616.8960 Td\\r\\n( text. And more text. Boring, zzzzz. And more text. And more text. And ) Tj\\r\\nET\\r\\nBT\\r\\n/F1 0010 Tf\\r\\n69.2500 604.9440 Td\\r\\n( more text. And more text. And more text. And more text. And more text. ) Tj\\r\\nET\\r\\nBT\\r\\n/F1 0010 Tf\\r\\n69.2500 592.9920 Td\\r\\n( And more text. And more text. ) Tj\\r\\nET\\r\\nBT\\r\\n/F1 0010 Tf\\r\\n69.2500 569.0880 Td\\r\\n( And more text. And more text. And more text. And more text. And more ) Tj\\r\\nET\\r\\nBT\\r\\n/F1 0010 Tf\\r\\n69.2500 557.1360 Td\\r\\n( text. And more text. And more text. Even more. Continued on page 2 ...) Tj\\r\\nET\\r\\nendstream\\r\\nendobj\\r\\n\\r\\n6 0 obj\\r\\n<<\\r\\n/Type /Page\\r\\n/Parent 3 0 R\\r\\n/Resources <<\\r\\n/Font <<\\r\\n/F1 9 0 R \\r\\n>>\\r\\n/ProcSet 8 0 R\\r\\n>>\\r\\n/MediaBox [0 0 612.0000 792.0000]\\r\\n/Contents 7 0 R\\r\\n>>\\r\\nendobj\\r\\n\\r\\n7 0 obj\\r\\n<< /Length 676 >>\\r\\nstream\\r\\n2 J\\r\\nBT\\r\\n0 0 0 rg\\r\\n/F1 0027 Tf\\r\\n57.3750 722.2800 Td\\r\\n( Simple PDF File 2 ) Tj\\r\\nET\\r\\nBT\\r\\n/F1 0010 Tf\\r\\n69.2500 688.6080 Td\\r\\n( ...continued from page 1. Yet more text. And more text. And more text. ) Tj\\r\\nET\\r\\nBT\\r\\n/F1 0010 Tf\\r\\n69.2500 676.6560 Td\\r\\n( And more text. And more text. And more text. And more text. And more ) Tj\\r\\nET\\r\\nBT\\r\\n/F1 0010 Tf\\r\\n69.2500 664.7040 Td\\r\\n( text. Oh, how boring typing this stuff. But not as boring as watching ) Tj\\r\\nET\\r\\nBT\\r\\n/F1 0010 Tf\\r\\n69.2500 652.7520 Td\\r\\n( paint dry. And more text. And more text. And more text. And more text. ) Tj\\r\\nET\\r\\nBT\\r\\n/F1 0010 Tf\\r\\n69.2500 640.8000 Td\\r\\n( Boring.  More, a little more text. The end, and just as well. ) Tj\\r\\nET\\r\\nendstream\\r\\nendobj\\r\\n\\r\\n8 0 obj\\r\\n[/PDF /Text]\\r\\nendobj\\r\\n\\r\\n9 0 obj\\r\\n<<\\r\\n/Type /Font\\r\\n/Subtype /Type1\\r\\n/Name /F1\\r\\n/BaseFont /Helvetica\\r\\n/Encoding /WinAnsiEncoding\\r\\n>>\\r\\nendobj\\r\\n\\r\\n10 0 obj\\r\\n<<\\r\\n/Creator (Rave \\\\(http://www.nevrona.com/rave\\\\))\\r\\n/Producer (Nevrona Designs)\\r\\n/CreationDate (D:20060301072826)\\r\\n>>\\r\\nendobj\\r\\n\\r\\nxref\\r\\n0 11\\r\\n0000000000 65535 f\\r\\n0000000019 00000 n\\r\\n0000000093 00000 n\\r\\n0000000147 00000 n\\r\\n0000000222 00000 n\\r\\n0000000390 00000 n\\r\\n0000001522 00000 n\\r\\n0000001690 00000 n\\r\\n0000002423 00000 n\\r\\n0000002456 00000 n\\r\\n0000002574 00000 n\\r\\n\\r\\ntrailer\\r\\n<<\\r\\n/Size 11\\r\\n/Root 1 0 R\\r\\n/Info 10 0 R\\r\\n>>\\r\\n\\r\\nstartxref\\r\\n2714\\r\\n%%EOF\\r\\n'"
      ]
     },
     "execution_count": 5,
     "metadata": {},
     "output_type": "execute_result"
    }
   ],
   "source": [
    "r.content"
   ]
  },
  {
   "cell_type": "code",
   "execution_count": 6,
   "id": "7594ad6c",
   "metadata": {},
   "outputs": [
    {
     "ename": "UnicodeDecodeError",
     "evalue": "'utf-8' codec can't decode byte 0xe2 in position 11: invalid continuation byte",
     "output_type": "error",
     "traceback": [
      "\u001b[0;31m---------------------------------------------------------------------------\u001b[0m",
      "\u001b[0;31mUnicodeDecodeError\u001b[0m                        Traceback (most recent call last)",
      "Cell \u001b[0;32mIn[6], line 1\u001b[0m\n\u001b[0;32m----> 1\u001b[0m \u001b[43mr\u001b[49m\u001b[38;5;241;43m.\u001b[39;49m\u001b[43mcontent\u001b[49m\u001b[38;5;241;43m.\u001b[39;49m\u001b[43mdecode\u001b[49m\u001b[43m(\u001b[49m\u001b[38;5;124;43m'\u001b[39;49m\u001b[38;5;124;43mutf-8\u001b[39;49m\u001b[38;5;124;43m'\u001b[39;49m\u001b[43m)\u001b[49m\n",
      "\u001b[0;31mUnicodeDecodeError\u001b[0m: 'utf-8' codec can't decode byte 0xe2 in position 11: invalid continuation byte"
     ]
    }
   ],
   "source": [
    "r.content.decode('utf-8')"
   ]
  },
  {
   "cell_type": "code",
   "execution_count": 8,
   "id": "ed32c235",
   "metadata": {},
   "outputs": [
    {
     "data": {
      "text/plain": [
       "{'Server': 'nginx', 'Date': 'Tue, 27 Jun 2023 08:34:03 GMT', 'Content-Type': 'application/pdf', 'Content-Length': '3028', 'Last-Modified': 'Fri, 24 Feb 2017 17:42:38 GMT', 'Connection': 'keep-alive', 'ETag': '\"58b0708e-bd4\"', 'Expires': 'Wed, 26 Jun 2024 08:34:03 GMT', 'Cache-Control': 'max-age=31536000', 'Host-Header': '8441280b0c35cbc1147f8ba998a563a7', 'X-Proxy-Cache-Info': 'DT:1', 'Accept-Ranges': 'bytes'}"
      ]
     },
     "execution_count": 8,
     "metadata": {},
     "output_type": "execute_result"
    }
   ],
   "source": [
    "r.headers"
   ]
  },
  {
   "cell_type": "code",
   "execution_count": 13,
   "id": "fbf45b9b",
   "metadata": {},
   "outputs": [],
   "source": [
    "s = int(r.headers['Content-Length'])   #size"
   ]
  },
  {
   "cell_type": "code",
   "execution_count": 14,
   "id": "c7a45fc2",
   "metadata": {},
   "outputs": [
    {
     "data": {
      "text/plain": [
       "3028"
      ]
     },
     "execution_count": 14,
     "metadata": {},
     "output_type": "execute_result"
    }
   ],
   "source": [
    "s"
   ]
  },
  {
   "cell_type": "code",
   "execution_count": 18,
   "id": "72f5582b",
   "metadata": {},
   "outputs": [],
   "source": [
    "chunk_size = 300"
   ]
  },
  {
   "cell_type": "code",
   "execution_count": 19,
   "id": "6393556e",
   "metadata": {},
   "outputs": [],
   "source": [
    "r = requests.get(url,stream = True)  #to get data one by one"
   ]
  },
  {
   "cell_type": "code",
   "execution_count": 22,
   "id": "d0bf0c84",
   "metadata": {},
   "outputs": [],
   "source": [
    "n = math.ceil(s/chunk_size)"
   ]
  },
  {
   "cell_type": "code",
   "execution_count": 23,
   "id": "5cfe1c77",
   "metadata": {},
   "outputs": [
    {
     "data": {
      "text/plain": [
       "11"
      ]
     },
     "execution_count": 23,
     "metadata": {},
     "output_type": "execute_result"
    }
   ],
   "source": [
    "n"
   ]
  },
  {
   "cell_type": "code",
   "execution_count": 25,
   "id": "1832f1b3",
   "metadata": {},
   "outputs": [],
   "source": [
    "with open(\"downloaded_file.pdf\",\"wb\") as file:\n",
    "    for chunk in r.iter_content(chunk_size = chunk_size):\n",
    "        file.write(chunk)"
   ]
  },
  {
   "cell_type": "code",
   "execution_count": null,
   "id": "83f28bce",
   "metadata": {},
   "outputs": [],
   "source": []
  }
 ],
 "metadata": {
  "kernelspec": {
   "display_name": "Python 3 (ipykernel)",
   "language": "python",
   "name": "python3"
  },
  "language_info": {
   "codemirror_mode": {
    "name": "ipython",
    "version": 3
   },
   "file_extension": ".py",
   "mimetype": "text/x-python",
   "name": "python",
   "nbconvert_exporter": "python",
   "pygments_lexer": "ipython3",
   "version": "3.10.9"
  }
 },
 "nbformat": 4,
 "nbformat_minor": 5
}
